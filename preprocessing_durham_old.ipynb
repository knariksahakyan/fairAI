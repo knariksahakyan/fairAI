{
  "cells": [
    {
      "cell_type": "markdown",
      "metadata": {
        "id": "view-in-github",
        "colab_type": "text"
      },
      "source": [
        "<a href=\"https://colab.research.google.com/github/knariksahakyan/fairAI/blob/main/preprocessing_durham_old.ipynb\" target=\"_parent\"><img src=\"https://colab.research.google.com/assets/colab-badge.svg\" alt=\"Open In Colab\"/></a>"
      ]
    },
    {
      "cell_type": "markdown",
      "metadata": {
        "id": "8H4U4lZx3dpS"
      },
      "source": [
        "Getting data for the city of Durham, North Caroline"
      ]
    },
    {
      "cell_type": "code",
      "execution_count": null,
      "metadata": {
        "colab": {
          "base_uri": "https://localhost:8080/"
        },
        "id": "2IznqCQJ3Zht",
        "outputId": "f05e3a15-db6a-422c-91d8-95b23d77d31d"
      },
      "outputs": [
        {
          "name": "stdout",
          "output_type": "stream",
          "text": [
            "--2023-07-23 08:37:10--  https://stacks.stanford.edu/file/druid:yg821jf8611/yg821jf8611_nc_durham_2020_04_01.csv.zip\n",
            "Resolving stacks.stanford.edu (stacks.stanford.edu)... 171.67.37.91\n",
            "Connecting to stacks.stanford.edu (stacks.stanford.edu)|171.67.37.91|:443... connected.\n",
            "HTTP request sent, awaiting response... 200 OK\n",
            "Length: 5273864 (5.0M) [application/zip]\n",
            "Saving to: ‘nc_durham_old.csv.zip’\n",
            "\n",
            "nc_durham_old.csv.z 100%[===================>]   5.03M   872KB/s    in 7.1s    \n",
            "\n",
            "2023-07-23 08:37:18 (720 KB/s) - ‘nc_durham_old.csv.zip’ saved [5273864/5273864]\n",
            "\n",
            "Archive:  nc_durham_old.csv.zip\n",
            "  inflating: nc_durham_2020_04_01.csv  \n"
          ]
        }
      ],
      "source": [
        "\n",
        "#Data for the city of Durham, Tennessee (will use this later for state of vehicle registration)CURRENT_STATE = 'NC'\n",
        "\n",
        "#Getting the dataset from the Stanford website and unzipping it\n",
        "\n",
        "!wget -O nc_durham_old.csv.zip https://stacks.stanford.edu/file/druid:yg821jf8611/yg821jf8611_nc_durham_2020_04_01.csv.zip\n",
        "!unzip nc_durham_old.csv.zip\n",
        "!rm -r nc_durham_old.csv.zip\n"
      ]
    },
    {
      "cell_type": "code",
      "execution_count": null,
      "metadata": {
        "colab": {
          "base_uri": "https://localhost:8080/"
        },
        "id": "NMn12X31mMCE",
        "outputId": "0487a8ad-b6b4-4bd3-f5c2-8aa4a76c2db7"
      },
      "outputs": [
        {
          "name": "stdout",
          "output_type": "stream",
          "text": [
            "Requirement already satisfied: holidays in /usr/local/lib/python3.10/dist-packages (0.29)\n",
            "Requirement already satisfied: python-dateutil in /usr/local/lib/python3.10/dist-packages (from holidays) (2.8.2)\n",
            "Requirement already satisfied: six>=1.5 in /usr/local/lib/python3.10/dist-packages (from python-dateutil->holidays) (1.16.0)\n",
            "Collecting fairlearn\n",
            "  Downloading fairlearn-0.8.0-py3-none-any.whl (235 kB)\n",
            "\u001b[2K     \u001b[90m━━━━━━━━━━━━━━━━━━━━━━━━━━━━━━━━━━━━━━━\u001b[0m \u001b[32m235.0/235.0 kB\u001b[0m \u001b[31m5.2 MB/s\u001b[0m eta \u001b[36m0:00:00\u001b[0m\n",
            "\u001b[?25hRequirement already satisfied: numpy>=1.17.2 in /usr/local/lib/python3.10/dist-packages (from fairlearn) (1.22.4)\n",
            "Requirement already satisfied: pandas>=0.25.1 in /usr/local/lib/python3.10/dist-packages (from fairlearn) (1.5.3)\n",
            "Requirement already satisfied: scikit-learn>=0.22.1 in /usr/local/lib/python3.10/dist-packages (from fairlearn) (1.2.2)\n",
            "Requirement already satisfied: scipy>=1.4.1 in /usr/local/lib/python3.10/dist-packages (from fairlearn) (1.10.1)\n",
            "Requirement already satisfied: python-dateutil>=2.8.1 in /usr/local/lib/python3.10/dist-packages (from pandas>=0.25.1->fairlearn) (2.8.2)\n",
            "Requirement already satisfied: pytz>=2020.1 in /usr/local/lib/python3.10/dist-packages (from pandas>=0.25.1->fairlearn) (2022.7.1)\n",
            "Requirement already satisfied: joblib>=1.1.1 in /usr/local/lib/python3.10/dist-packages (from scikit-learn>=0.22.1->fairlearn) (1.3.1)\n",
            "Requirement already satisfied: threadpoolctl>=2.0.0 in /usr/local/lib/python3.10/dist-packages (from scikit-learn>=0.22.1->fairlearn) (3.2.0)\n",
            "Requirement already satisfied: six>=1.5 in /usr/local/lib/python3.10/dist-packages (from python-dateutil>=2.8.1->pandas>=0.25.1->fairlearn) (1.16.0)\n",
            "Installing collected packages: fairlearn\n",
            "Successfully installed fairlearn-0.8.0\n"
          ]
        }
      ],
      "source": [
        "!pip install holidays\n",
        "!pip install --upgrade fairlearn"
      ]
    },
    {
      "cell_type": "code",
      "execution_count": null,
      "metadata": {
        "id": "sAJEXG4qmGCy"
      },
      "outputs": [],
      "source": [
        "import pandas as pd\n",
        "import numpy as np\n",
        "import holidays\n",
        "from sklearn.model_selection import train_test_split\n",
        "from sklearn.linear_model import LogisticRegression\n",
        "from sklearn.preprocessing import StandardScaler\n",
        "from sklearn.pipeline import Pipeline\n",
        "from sklearn.impute import SimpleImputer\n",
        "\n",
        "from sklearn.metrics import (\n",
        "    balanced_accuracy_score,\n",
        "    roc_auc_score,\n",
        "    accuracy_score,\n",
        "    recall_score,\n",
        "    confusion_matrix,\n",
        "    roc_auc_score,\n",
        "    roc_curve,\n",
        "    RocCurveDisplay)\n",
        "\n",
        "from fairlearn.metrics import (\n",
        "    MetricFrame,\n",
        "    true_positive_rate,\n",
        "    false_positive_rate,\n",
        "    false_negative_rate,\n",
        "    selection_rate,\n",
        "    count,\n",
        "    false_negative_rate_difference\n",
        ")\n",
        "\n",
        "from fairlearn.postprocessing import ThresholdOptimizer, plot_threshold_optimizer\n",
        "from fairlearn.postprocessing._interpolated_thresholder import InterpolatedThresholder\n",
        "from fairlearn.postprocessing._threshold_operation import ThresholdOperation\n",
        "from fairlearn.reductions import ExponentiatedGradient, EqualizedOdds, TruePositiveRateParity"
      ]
    },
    {
      "cell_type": "markdown",
      "metadata": {
        "id": "ntoF1TE07CcG"
      },
      "source": [
        "Reading dataset into pandas"
      ]
    },
    {
      "cell_type": "code",
      "execution_count": null,
      "metadata": {
        "id": "P6kj6Qsq69um"
      },
      "outputs": [],
      "source": [
        "df_durham_old = pd.read_csv(\"nc_durham_2020_04_01.csv\")"
      ]
    },
    {
      "cell_type": "code",
      "execution_count": null,
      "metadata": {
        "colab": {
          "base_uri": "https://localhost:8080/"
        },
        "id": "H-bDWDZivRKO",
        "outputId": "7bd2d8de-0c6c-46cb-ca2b-8ba29180a192"
      },
      "outputs": [
        {
          "data": {
            "text/plain": [
              "black                     180851\n",
              "white                      97415\n",
              "hispanic                   38968\n",
              "asian/pacific islander      4935\n",
              "unknown                     2591\n",
              "other                       1263\n",
              "Name: subject_race, dtype: int64"
            ]
          },
          "execution_count": 5,
          "metadata": {},
          "output_type": "execute_result"
        }
      ],
      "source": [
        "df_durham_old.subject_race.value_counts()"
      ]
    },
    {
      "cell_type": "code",
      "execution_count": null,
      "metadata": {
        "colab": {
          "base_uri": "https://localhost:8080/"
        },
        "id": "XWPrJmnzvh-x",
        "outputId": "02004fa1-cb74-4a32-a58f-7d474cd1c187"
      },
      "outputs": [
        {
          "data": {
            "text/plain": [
              "B    181573\n",
              "W    131637\n",
              "U      6519\n",
              "A      4973\n",
              "I      1321\n",
              "Name: raw_Race, dtype: int64"
            ]
          },
          "execution_count": 6,
          "metadata": {},
          "output_type": "execute_result"
        }
      ],
      "source": [
        "df_durham_old.raw_Race.value_counts()"
      ]
    },
    {
      "cell_type": "code",
      "execution_count": null,
      "metadata": {
        "colab": {
          "base_uri": "https://localhost:8080/"
        },
        "id": "_oPmQ4DKy8tH",
        "outputId": "50176601-57dc-4e97-e6d1-a4931a241cda"
      },
      "outputs": [
        {
          "data": {
            "text/plain": [
              "False    304318\n",
              "True      21706\n",
              "Name: search_conducted, dtype: int64"
            ]
          },
          "execution_count": 7,
          "metadata": {},
          "output_type": "execute_result"
        }
      ],
      "source": [
        "df_durham_old.search_conducted.value_counts()"
      ]
    },
    {
      "cell_type": "code",
      "execution_count": null,
      "metadata": {
        "colab": {
          "base_uri": "https://localhost:8080/"
        },
        "id": "WAM6jteP1MFC",
        "outputId": "29ac191b-21d9-4cbf-f9d4-30cb5785b185"
      },
      "outputs": [
        {
          "data": {
            "text/plain": [
              "False    325250\n",
              "True        774\n",
              "Name: frisk_performed, dtype: int64"
            ]
          },
          "execution_count": 8,
          "metadata": {},
          "output_type": "execute_result"
        }
      ],
      "source": [
        "df_durham_old.frisk_performed.value_counts()"
      ]
    },
    {
      "cell_type": "code",
      "execution_count": null,
      "metadata": {
        "colab": {
          "base_uri": "https://localhost:8080/"
        },
        "id": "zP8xDC0o1TVY",
        "outputId": "8576a192-889a-4c37-8434-9439fbc887c6"
      },
      "outputs": [
        {
          "data": {
            "text/plain": [
              "True    774\n",
              "Name: search_conducted, dtype: int64"
            ]
          },
          "execution_count": 9,
          "metadata": {},
          "output_type": "execute_result"
        }
      ],
      "source": [
        "df_durham_old[df_durham_old.frisk_performed == True].search_conducted.value_counts()"
      ]
    },
    {
      "cell_type": "markdown",
      "metadata": {
        "id": "1EctXDk31mxK"
      },
      "source": [
        "Search conducted includes also frisk (if frisk is true then search is also true)"
      ]
    },
    {
      "cell_type": "code",
      "execution_count": null,
      "metadata": {
        "colab": {
          "base_uri": "https://localhost:8080/"
        },
        "id": "K9Ecvw6M0YvY",
        "outputId": "86ae74b2-eaa0-474c-9d11-870c380a44af"
      },
      "outputs": [
        {
          "data": {
            "text/plain": [
              "consent           11171\n",
              "probable cause     5669\n",
              "other              4092\n",
              "Name: search_basis, dtype: int64"
            ]
          },
          "execution_count": 10,
          "metadata": {},
          "output_type": "execute_result"
        }
      ],
      "source": [
        "# variables to be used for search\n",
        "df_durham_old.search_basis.value_counts()"
      ]
    },
    {
      "cell_type": "code",
      "execution_count": null,
      "metadata": {
        "colab": {
          "base_uri": "https://localhost:8080/"
        },
        "id": "Gl5U-pJb0Hfu",
        "outputId": "3dc6abb4-fe2e-4ac1-bec1-552af84a90f1"
      },
      "outputs": [
        {
          "data": {
            "text/plain": [
              "Index(['raw_row_number', 'date', 'time', 'location', 'county_name',\n",
              "       'subject_age', 'subject_race', 'subject_sex', 'officer_id_hash',\n",
              "       'department_name', 'type', 'arrest_made', 'citation_issued',\n",
              "       'warning_issued', 'outcome', 'contraband_found', 'contraband_drugs',\n",
              "       'contraband_weapons', 'frisk_performed', 'search_conducted',\n",
              "       'search_person', 'search_vehicle', 'search_basis', 'reason_for_frisk',\n",
              "       'reason_for_search', 'reason_for_stop', 'raw_Ethnicity', 'raw_Race',\n",
              "       'raw_action_description'],\n",
              "      dtype='object')"
            ]
          },
          "execution_count": 11,
          "metadata": {},
          "output_type": "execute_result"
        }
      ],
      "source": [
        "df_durham_old.columns"
      ]
    },
    {
      "cell_type": "markdown",
      "metadata": {
        "id": "eEOwnDqysy8G"
      },
      "source": [
        "No Action Taken is nan in outcome"
      ]
    },
    {
      "cell_type": "code",
      "execution_count": null,
      "metadata": {
        "colab": {
          "base_uri": "https://localhost:8080/"
        },
        "id": "FbVE74mKsQdW",
        "outputId": "58db8221-f9a3-4694-8d85-f61248459bff"
      },
      "outputs": [
        {
          "data": {
            "text/plain": [
              "Citation Issued    168351\n",
              "Verbal Warning     111467\n",
              "Written Warning     27751\n",
              "No Action Taken     10782\n",
              "On-View Arrest       7673\n",
              "Name: raw_action_description, dtype: int64"
            ]
          },
          "execution_count": 12,
          "metadata": {},
          "output_type": "execute_result"
        }
      ],
      "source": [
        "df_durham_old.raw_action_description.value_counts()\n"
      ]
    },
    {
      "cell_type": "code",
      "execution_count": null,
      "metadata": {
        "colab": {
          "base_uri": "https://localhost:8080/"
        },
        "id": "subqHkaAsWUF",
        "outputId": "c11ab4fa-09a3-4048-9454-061ebfaf4ec4"
      },
      "outputs": [
        {
          "data": {
            "text/plain": [
              "warning    111467\n",
              "Name: outcome, dtype: int64"
            ]
          },
          "execution_count": 13,
          "metadata": {},
          "output_type": "execute_result"
        }
      ],
      "source": [
        "df_durham_old[df_durham_old.raw_action_description == 'Verbal Warning'].outcome.value_counts()"
      ]
    },
    {
      "cell_type": "code",
      "execution_count": null,
      "metadata": {
        "colab": {
          "base_uri": "https://localhost:8080/"
        },
        "id": "FrCsix1PshMx",
        "outputId": "23cd103c-4ccc-49ed-86ac-195d8b46bddf"
      },
      "outputs": [
        {
          "data": {
            "text/plain": [
              "10782"
            ]
          },
          "execution_count": 14,
          "metadata": {},
          "output_type": "execute_result"
        }
      ],
      "source": [
        "df_durham_old[df_durham_old.raw_action_description == 'No Action Taken'].outcome.isnull().sum()"
      ]
    },
    {
      "cell_type": "code",
      "execution_count": null,
      "metadata": {
        "colab": {
          "base_uri": "https://localhost:8080/"
        },
        "id": "-Ev1k8_sFpBj",
        "outputId": "4144140c-4d80-4cc1-e96c-9017e5b65e03"
      },
      "outputs": [
        {
          "name": "stdout",
          "output_type": "stream",
          "text": [
            "<class 'pandas.core.frame.DataFrame'>\n",
            "RangeIndex: 326024 entries, 0 to 326023\n",
            "Data columns (total 29 columns):\n",
            " #   Column                  Non-Null Count   Dtype  \n",
            "---  ------                  --------------   -----  \n",
            " 0   raw_row_number          326024 non-null  int64  \n",
            " 1   date                    326024 non-null  object \n",
            " 2   time                    277785 non-null  object \n",
            " 3   location                326024 non-null  object \n",
            " 4   county_name             326024 non-null  object \n",
            " 5   subject_age             326017 non-null  float64\n",
            " 6   subject_race            326023 non-null  object \n",
            " 7   subject_sex             326023 non-null  object \n",
            " 8   officer_id_hash         326024 non-null  object \n",
            " 9   department_name         326024 non-null  object \n",
            " 10  type                    326024 non-null  object \n",
            " 11  arrest_made             326024 non-null  bool   \n",
            " 12  citation_issued         326024 non-null  bool   \n",
            " 13  warning_issued          326024 non-null  bool   \n",
            " 14  outcome                 315242 non-null  object \n",
            " 15  contraband_found        21706 non-null   object \n",
            " 16  contraband_drugs        21706 non-null   object \n",
            " 17  contraband_weapons      21706 non-null   object \n",
            " 18  frisk_performed         326024 non-null  bool   \n",
            " 19  search_conducted        326024 non-null  bool   \n",
            " 20  search_person           326024 non-null  bool   \n",
            " 21  search_vehicle          326024 non-null  bool   \n",
            " 22  search_basis            20932 non-null   object \n",
            " 23  reason_for_frisk        774 non-null     object \n",
            " 24  reason_for_search       21706 non-null   object \n",
            " 25  reason_for_stop         326024 non-null  object \n",
            " 26  raw_Ethnicity           326023 non-null  object \n",
            " 27  raw_Race                326023 non-null  object \n",
            " 28  raw_action_description  326024 non-null  object \n",
            "dtypes: bool(7), float64(1), int64(1), object(20)\n",
            "memory usage: 56.9+ MB\n"
          ]
        }
      ],
      "source": [
        "df_durham_old.info()"
      ]
    },
    {
      "cell_type": "code",
      "execution_count": null,
      "metadata": {
        "colab": {
          "base_uri": "https://localhost:8080/"
        },
        "id": "Tq6ufkDfLCvT",
        "outputId": "710ae071-1908-440e-b088-281fe289585a"
      },
      "outputs": [
        {
          "data": {
            "text/plain": [
              "(326024, 29)"
            ]
          },
          "execution_count": 16,
          "metadata": {},
          "output_type": "execute_result"
        }
      ],
      "source": [
        "df_durham_old.shape"
      ]
    },
    {
      "cell_type": "markdown",
      "metadata": {
        "id": "ENQzT_tC6_Ea"
      },
      "source": []
    },
    {
      "cell_type": "code",
      "execution_count": null,
      "metadata": {
        "colab": {
          "base_uri": "https://localhost:8080/",
          "height": 1000
        },
        "id": "s7JALXLJ6AB3",
        "outputId": "ea30921f-6f29-4291-95cc-f030d8463192"
      },
      "outputs": [
        {
          "data": {
            "text/html": [
              "\n",
              "\n",
              "  <div id=\"df-6acff869-b220-443f-a435-d9f04191e3f8\">\n",
              "    <div class=\"colab-df-container\">\n",
              "      <div>\n",
              "<style scoped>\n",
              "    .dataframe tbody tr th:only-of-type {\n",
              "        vertical-align: middle;\n",
              "    }\n",
              "\n",
              "    .dataframe tbody tr th {\n",
              "        vertical-align: top;\n",
              "    }\n",
              "\n",
              "    .dataframe thead th {\n",
              "        text-align: right;\n",
              "    }\n",
              "</style>\n",
              "<table border=\"1\" class=\"dataframe\">\n",
              "  <thead>\n",
              "    <tr style=\"text-align: right;\">\n",
              "      <th></th>\n",
              "      <th>0</th>\n",
              "      <th>1</th>\n",
              "      <th>2</th>\n",
              "      <th>3</th>\n",
              "      <th>4</th>\n",
              "    </tr>\n",
              "  </thead>\n",
              "  <tbody>\n",
              "    <tr>\n",
              "      <th>raw_row_number</th>\n",
              "      <td>1219541</td>\n",
              "      <td>1221117</td>\n",
              "      <td>1221124</td>\n",
              "      <td>1221133</td>\n",
              "      <td>1221146</td>\n",
              "    </tr>\n",
              "    <tr>\n",
              "      <th>date</th>\n",
              "      <td>2001-12-28</td>\n",
              "      <td>2002-01-02</td>\n",
              "      <td>2002-01-02</td>\n",
              "      <td>2002-01-02</td>\n",
              "      <td>2002-01-02</td>\n",
              "    </tr>\n",
              "    <tr>\n",
              "      <th>time</th>\n",
              "      <td>NaN</td>\n",
              "      <td>04:00:00</td>\n",
              "      <td>NaN</td>\n",
              "      <td>19:50:00</td>\n",
              "      <td>20:45:00</td>\n",
              "    </tr>\n",
              "    <tr>\n",
              "      <th>location</th>\n",
              "      <td>Durham, Durham County</td>\n",
              "      <td>Durham, Durham County</td>\n",
              "      <td>Durham, Durham County</td>\n",
              "      <td>Durham, Durham County</td>\n",
              "      <td>Durham, Durham County</td>\n",
              "    </tr>\n",
              "    <tr>\n",
              "      <th>county_name</th>\n",
              "      <td>Durham County</td>\n",
              "      <td>Durham County</td>\n",
              "      <td>Durham County</td>\n",
              "      <td>Durham County</td>\n",
              "      <td>Durham County</td>\n",
              "    </tr>\n",
              "    <tr>\n",
              "      <th>subject_age</th>\n",
              "      <td>22.0</td>\n",
              "      <td>28.0</td>\n",
              "      <td>21.0</td>\n",
              "      <td>28.0</td>\n",
              "      <td>36.0</td>\n",
              "    </tr>\n",
              "    <tr>\n",
              "      <th>subject_race</th>\n",
              "      <td>black</td>\n",
              "      <td>hispanic</td>\n",
              "      <td>black</td>\n",
              "      <td>black</td>\n",
              "      <td>black</td>\n",
              "    </tr>\n",
              "    <tr>\n",
              "      <th>subject_sex</th>\n",
              "      <td>female</td>\n",
              "      <td>male</td>\n",
              "      <td>male</td>\n",
              "      <td>female</td>\n",
              "      <td>female</td>\n",
              "    </tr>\n",
              "    <tr>\n",
              "      <th>officer_id_hash</th>\n",
              "      <td>5b9908c1a5</td>\n",
              "      <td>0c140e68b5</td>\n",
              "      <td>0c140e68b5</td>\n",
              "      <td>41b05be9b1</td>\n",
              "      <td>41b05be9b1</td>\n",
              "    </tr>\n",
              "    <tr>\n",
              "      <th>department_name</th>\n",
              "      <td>Durham Police Department</td>\n",
              "      <td>Durham Police Department</td>\n",
              "      <td>Durham Police Department</td>\n",
              "      <td>Durham Police Department</td>\n",
              "      <td>Durham Police Department</td>\n",
              "    </tr>\n",
              "    <tr>\n",
              "      <th>type</th>\n",
              "      <td>vehicular</td>\n",
              "      <td>vehicular</td>\n",
              "      <td>vehicular</td>\n",
              "      <td>vehicular</td>\n",
              "      <td>vehicular</td>\n",
              "    </tr>\n",
              "    <tr>\n",
              "      <th>arrest_made</th>\n",
              "      <td>False</td>\n",
              "      <td>False</td>\n",
              "      <td>False</td>\n",
              "      <td>False</td>\n",
              "      <td>False</td>\n",
              "    </tr>\n",
              "    <tr>\n",
              "      <th>citation_issued</th>\n",
              "      <td>False</td>\n",
              "      <td>True</td>\n",
              "      <td>False</td>\n",
              "      <td>True</td>\n",
              "      <td>False</td>\n",
              "    </tr>\n",
              "    <tr>\n",
              "      <th>warning_issued</th>\n",
              "      <td>True</td>\n",
              "      <td>False</td>\n",
              "      <td>True</td>\n",
              "      <td>False</td>\n",
              "      <td>True</td>\n",
              "    </tr>\n",
              "    <tr>\n",
              "      <th>outcome</th>\n",
              "      <td>warning</td>\n",
              "      <td>citation</td>\n",
              "      <td>warning</td>\n",
              "      <td>citation</td>\n",
              "      <td>warning</td>\n",
              "    </tr>\n",
              "    <tr>\n",
              "      <th>contraband_found</th>\n",
              "      <td>NaN</td>\n",
              "      <td>NaN</td>\n",
              "      <td>NaN</td>\n",
              "      <td>NaN</td>\n",
              "      <td>NaN</td>\n",
              "    </tr>\n",
              "    <tr>\n",
              "      <th>contraband_drugs</th>\n",
              "      <td>NaN</td>\n",
              "      <td>NaN</td>\n",
              "      <td>NaN</td>\n",
              "      <td>NaN</td>\n",
              "      <td>NaN</td>\n",
              "    </tr>\n",
              "    <tr>\n",
              "      <th>contraband_weapons</th>\n",
              "      <td>NaN</td>\n",
              "      <td>NaN</td>\n",
              "      <td>NaN</td>\n",
              "      <td>NaN</td>\n",
              "      <td>NaN</td>\n",
              "    </tr>\n",
              "    <tr>\n",
              "      <th>frisk_performed</th>\n",
              "      <td>False</td>\n",
              "      <td>False</td>\n",
              "      <td>False</td>\n",
              "      <td>False</td>\n",
              "      <td>False</td>\n",
              "    </tr>\n",
              "    <tr>\n",
              "      <th>search_conducted</th>\n",
              "      <td>False</td>\n",
              "      <td>False</td>\n",
              "      <td>False</td>\n",
              "      <td>False</td>\n",
              "      <td>False</td>\n",
              "    </tr>\n",
              "    <tr>\n",
              "      <th>search_person</th>\n",
              "      <td>False</td>\n",
              "      <td>False</td>\n",
              "      <td>False</td>\n",
              "      <td>False</td>\n",
              "      <td>False</td>\n",
              "    </tr>\n",
              "    <tr>\n",
              "      <th>search_vehicle</th>\n",
              "      <td>False</td>\n",
              "      <td>False</td>\n",
              "      <td>False</td>\n",
              "      <td>False</td>\n",
              "      <td>False</td>\n",
              "    </tr>\n",
              "    <tr>\n",
              "      <th>search_basis</th>\n",
              "      <td>NaN</td>\n",
              "      <td>NaN</td>\n",
              "      <td>NaN</td>\n",
              "      <td>NaN</td>\n",
              "      <td>NaN</td>\n",
              "    </tr>\n",
              "    <tr>\n",
              "      <th>reason_for_frisk</th>\n",
              "      <td>NaN</td>\n",
              "      <td>NaN</td>\n",
              "      <td>NaN</td>\n",
              "      <td>NaN</td>\n",
              "      <td>NaN</td>\n",
              "    </tr>\n",
              "    <tr>\n",
              "      <th>reason_for_search</th>\n",
              "      <td>NaN</td>\n",
              "      <td>NaN</td>\n",
              "      <td>NaN</td>\n",
              "      <td>NaN</td>\n",
              "      <td>NaN</td>\n",
              "    </tr>\n",
              "    <tr>\n",
              "      <th>reason_for_stop</th>\n",
              "      <td>Investigation</td>\n",
              "      <td>Stop Light/Sign Violation</td>\n",
              "      <td>Vehicle Equipment Violation</td>\n",
              "      <td>Vehicle Regulatory Violation</td>\n",
              "      <td>Vehicle Regulatory Violation</td>\n",
              "    </tr>\n",
              "    <tr>\n",
              "      <th>raw_Ethnicity</th>\n",
              "      <td>N</td>\n",
              "      <td>H</td>\n",
              "      <td>N</td>\n",
              "      <td>N</td>\n",
              "      <td>N</td>\n",
              "    </tr>\n",
              "    <tr>\n",
              "      <th>raw_Race</th>\n",
              "      <td>B</td>\n",
              "      <td>W</td>\n",
              "      <td>B</td>\n",
              "      <td>B</td>\n",
              "      <td>B</td>\n",
              "    </tr>\n",
              "    <tr>\n",
              "      <th>raw_action_description</th>\n",
              "      <td>Verbal Warning</td>\n",
              "      <td>Citation Issued</td>\n",
              "      <td>Verbal Warning</td>\n",
              "      <td>Citation Issued</td>\n",
              "      <td>Written Warning</td>\n",
              "    </tr>\n",
              "  </tbody>\n",
              "</table>\n",
              "</div>\n",
              "      <button class=\"colab-df-convert\" onclick=\"convertToInteractive('df-6acff869-b220-443f-a435-d9f04191e3f8')\"\n",
              "              title=\"Convert this dataframe to an interactive table.\"\n",
              "              style=\"display:none;\">\n",
              "\n",
              "  <svg xmlns=\"http://www.w3.org/2000/svg\" height=\"24px\"viewBox=\"0 0 24 24\"\n",
              "       width=\"24px\">\n",
              "    <path d=\"M0 0h24v24H0V0z\" fill=\"none\"/>\n",
              "    <path d=\"M18.56 5.44l.94 2.06.94-2.06 2.06-.94-2.06-.94-.94-2.06-.94 2.06-2.06.94zm-11 1L8.5 8.5l.94-2.06 2.06-.94-2.06-.94L8.5 2.5l-.94 2.06-2.06.94zm10 10l.94 2.06.94-2.06 2.06-.94-2.06-.94-.94-2.06-.94 2.06-2.06.94z\"/><path d=\"M17.41 7.96l-1.37-1.37c-.4-.4-.92-.59-1.43-.59-.52 0-1.04.2-1.43.59L10.3 9.45l-7.72 7.72c-.78.78-.78 2.05 0 2.83L4 21.41c.39.39.9.59 1.41.59.51 0 1.02-.2 1.41-.59l7.78-7.78 2.81-2.81c.8-.78.8-2.07 0-2.86zM5.41 20L4 18.59l7.72-7.72 1.47 1.35L5.41 20z\"/>\n",
              "  </svg>\n",
              "      </button>\n",
              "\n",
              "\n",
              "\n",
              "    <div id=\"df-44c5112e-f2e6-4146-a248-e0ac0347d0fe\">\n",
              "      <button class=\"colab-df-quickchart\" onclick=\"quickchart('df-44c5112e-f2e6-4146-a248-e0ac0347d0fe')\"\n",
              "              title=\"Suggest charts.\"\n",
              "              style=\"display:none;\">\n",
              "\n",
              "<svg xmlns=\"http://www.w3.org/2000/svg\" height=\"24px\"viewBox=\"0 0 24 24\"\n",
              "     width=\"24px\">\n",
              "    <g>\n",
              "        <path d=\"M19 3H5c-1.1 0-2 .9-2 2v14c0 1.1.9 2 2 2h14c1.1 0 2-.9 2-2V5c0-1.1-.9-2-2-2zM9 17H7v-7h2v7zm4 0h-2V7h2v10zm4 0h-2v-4h2v4z\"/>\n",
              "    </g>\n",
              "</svg>\n",
              "      </button>\n",
              "    </div>\n",
              "\n",
              "<style>\n",
              "  .colab-df-quickchart {\n",
              "    background-color: #E8F0FE;\n",
              "    border: none;\n",
              "    border-radius: 50%;\n",
              "    cursor: pointer;\n",
              "    display: none;\n",
              "    fill: #1967D2;\n",
              "    height: 32px;\n",
              "    padding: 0 0 0 0;\n",
              "    width: 32px;\n",
              "  }\n",
              "\n",
              "  .colab-df-quickchart:hover {\n",
              "    background-color: #E2EBFA;\n",
              "    box-shadow: 0px 1px 2px rgba(60, 64, 67, 0.3), 0px 1px 3px 1px rgba(60, 64, 67, 0.15);\n",
              "    fill: #174EA6;\n",
              "  }\n",
              "\n",
              "  [theme=dark] .colab-df-quickchart {\n",
              "    background-color: #3B4455;\n",
              "    fill: #D2E3FC;\n",
              "  }\n",
              "\n",
              "  [theme=dark] .colab-df-quickchart:hover {\n",
              "    background-color: #434B5C;\n",
              "    box-shadow: 0px 1px 3px 1px rgba(0, 0, 0, 0.15);\n",
              "    filter: drop-shadow(0px 1px 2px rgba(0, 0, 0, 0.3));\n",
              "    fill: #FFFFFF;\n",
              "  }\n",
              "</style>\n",
              "\n",
              "    <script>\n",
              "      async function quickchart(key) {\n",
              "        const containerElement = document.querySelector('#' + key);\n",
              "        const charts = await google.colab.kernel.invokeFunction(\n",
              "            'suggestCharts', [key], {});\n",
              "      }\n",
              "    </script>\n",
              "\n",
              "      <script>\n",
              "\n",
              "function displayQuickchartButton(domScope) {\n",
              "  let quickchartButtonEl =\n",
              "    domScope.querySelector('#df-44c5112e-f2e6-4146-a248-e0ac0347d0fe button.colab-df-quickchart');\n",
              "  quickchartButtonEl.style.display =\n",
              "    google.colab.kernel.accessAllowed ? 'block' : 'none';\n",
              "}\n",
              "\n",
              "        displayQuickchartButton(document);\n",
              "      </script>\n",
              "      <style>\n",
              "    .colab-df-container {\n",
              "      display:flex;\n",
              "      flex-wrap:wrap;\n",
              "      gap: 12px;\n",
              "    }\n",
              "\n",
              "    .colab-df-convert {\n",
              "      background-color: #E8F0FE;\n",
              "      border: none;\n",
              "      border-radius: 50%;\n",
              "      cursor: pointer;\n",
              "      display: none;\n",
              "      fill: #1967D2;\n",
              "      height: 32px;\n",
              "      padding: 0 0 0 0;\n",
              "      width: 32px;\n",
              "    }\n",
              "\n",
              "    .colab-df-convert:hover {\n",
              "      background-color: #E2EBFA;\n",
              "      box-shadow: 0px 1px 2px rgba(60, 64, 67, 0.3), 0px 1px 3px 1px rgba(60, 64, 67, 0.15);\n",
              "      fill: #174EA6;\n",
              "    }\n",
              "\n",
              "    [theme=dark] .colab-df-convert {\n",
              "      background-color: #3B4455;\n",
              "      fill: #D2E3FC;\n",
              "    }\n",
              "\n",
              "    [theme=dark] .colab-df-convert:hover {\n",
              "      background-color: #434B5C;\n",
              "      box-shadow: 0px 1px 3px 1px rgba(0, 0, 0, 0.15);\n",
              "      filter: drop-shadow(0px 1px 2px rgba(0, 0, 0, 0.3));\n",
              "      fill: #FFFFFF;\n",
              "    }\n",
              "  </style>\n",
              "\n",
              "      <script>\n",
              "        const buttonEl =\n",
              "          document.querySelector('#df-6acff869-b220-443f-a435-d9f04191e3f8 button.colab-df-convert');\n",
              "        buttonEl.style.display =\n",
              "          google.colab.kernel.accessAllowed ? 'block' : 'none';\n",
              "\n",
              "        async function convertToInteractive(key) {\n",
              "          const element = document.querySelector('#df-6acff869-b220-443f-a435-d9f04191e3f8');\n",
              "          const dataTable =\n",
              "            await google.colab.kernel.invokeFunction('convertToInteractive',\n",
              "                                                     [key], {});\n",
              "          if (!dataTable) return;\n",
              "\n",
              "          const docLinkHtml = 'Like what you see? Visit the ' +\n",
              "            '<a target=\"_blank\" href=https://colab.research.google.com/notebooks/data_table.ipynb>data table notebook</a>'\n",
              "            + ' to learn more about interactive tables.';\n",
              "          element.innerHTML = '';\n",
              "          dataTable['output_type'] = 'display_data';\n",
              "          await google.colab.output.renderOutput(dataTable, element);\n",
              "          const docLink = document.createElement('div');\n",
              "          docLink.innerHTML = docLinkHtml;\n",
              "          element.appendChild(docLink);\n",
              "        }\n",
              "      </script>\n",
              "    </div>\n",
              "  </div>\n"
            ],
            "text/plain": [
              "                                               0                          1  \\\n",
              "raw_row_number                           1219541                    1221117   \n",
              "date                                  2001-12-28                 2002-01-02   \n",
              "time                                         NaN                   04:00:00   \n",
              "location                   Durham, Durham County      Durham, Durham County   \n",
              "county_name                        Durham County              Durham County   \n",
              "subject_age                                 22.0                       28.0   \n",
              "subject_race                               black                   hispanic   \n",
              "subject_sex                               female                       male   \n",
              "officer_id_hash                       5b9908c1a5                 0c140e68b5   \n",
              "department_name         Durham Police Department   Durham Police Department   \n",
              "type                                   vehicular                  vehicular   \n",
              "arrest_made                                False                      False   \n",
              "citation_issued                            False                       True   \n",
              "warning_issued                              True                      False   \n",
              "outcome                                  warning                   citation   \n",
              "contraband_found                             NaN                        NaN   \n",
              "contraband_drugs                             NaN                        NaN   \n",
              "contraband_weapons                           NaN                        NaN   \n",
              "frisk_performed                            False                      False   \n",
              "search_conducted                           False                      False   \n",
              "search_person                              False                      False   \n",
              "search_vehicle                             False                      False   \n",
              "search_basis                                 NaN                        NaN   \n",
              "reason_for_frisk                             NaN                        NaN   \n",
              "reason_for_search                            NaN                        NaN   \n",
              "reason_for_stop                    Investigation  Stop Light/Sign Violation   \n",
              "raw_Ethnicity                                  N                          H   \n",
              "raw_Race                                       B                          W   \n",
              "raw_action_description            Verbal Warning            Citation Issued   \n",
              "\n",
              "                                                  2  \\\n",
              "raw_row_number                              1221124   \n",
              "date                                     2002-01-02   \n",
              "time                                            NaN   \n",
              "location                      Durham, Durham County   \n",
              "county_name                           Durham County   \n",
              "subject_age                                    21.0   \n",
              "subject_race                                  black   \n",
              "subject_sex                                    male   \n",
              "officer_id_hash                          0c140e68b5   \n",
              "department_name            Durham Police Department   \n",
              "type                                      vehicular   \n",
              "arrest_made                                   False   \n",
              "citation_issued                               False   \n",
              "warning_issued                                 True   \n",
              "outcome                                     warning   \n",
              "contraband_found                                NaN   \n",
              "contraband_drugs                                NaN   \n",
              "contraband_weapons                              NaN   \n",
              "frisk_performed                               False   \n",
              "search_conducted                              False   \n",
              "search_person                                 False   \n",
              "search_vehicle                                False   \n",
              "search_basis                                    NaN   \n",
              "reason_for_frisk                                NaN   \n",
              "reason_for_search                               NaN   \n",
              "reason_for_stop         Vehicle Equipment Violation   \n",
              "raw_Ethnicity                                     N   \n",
              "raw_Race                                          B   \n",
              "raw_action_description               Verbal Warning   \n",
              "\n",
              "                                                   3  \\\n",
              "raw_row_number                               1221133   \n",
              "date                                      2002-01-02   \n",
              "time                                        19:50:00   \n",
              "location                       Durham, Durham County   \n",
              "county_name                            Durham County   \n",
              "subject_age                                     28.0   \n",
              "subject_race                                   black   \n",
              "subject_sex                                   female   \n",
              "officer_id_hash                           41b05be9b1   \n",
              "department_name             Durham Police Department   \n",
              "type                                       vehicular   \n",
              "arrest_made                                    False   \n",
              "citation_issued                                 True   \n",
              "warning_issued                                 False   \n",
              "outcome                                     citation   \n",
              "contraband_found                                 NaN   \n",
              "contraband_drugs                                 NaN   \n",
              "contraband_weapons                               NaN   \n",
              "frisk_performed                                False   \n",
              "search_conducted                               False   \n",
              "search_person                                  False   \n",
              "search_vehicle                                 False   \n",
              "search_basis                                     NaN   \n",
              "reason_for_frisk                                 NaN   \n",
              "reason_for_search                                NaN   \n",
              "reason_for_stop         Vehicle Regulatory Violation   \n",
              "raw_Ethnicity                                      N   \n",
              "raw_Race                                           B   \n",
              "raw_action_description               Citation Issued   \n",
              "\n",
              "                                                   4  \n",
              "raw_row_number                               1221146  \n",
              "date                                      2002-01-02  \n",
              "time                                        20:45:00  \n",
              "location                       Durham, Durham County  \n",
              "county_name                            Durham County  \n",
              "subject_age                                     36.0  \n",
              "subject_race                                   black  \n",
              "subject_sex                                   female  \n",
              "officer_id_hash                           41b05be9b1  \n",
              "department_name             Durham Police Department  \n",
              "type                                       vehicular  \n",
              "arrest_made                                    False  \n",
              "citation_issued                                False  \n",
              "warning_issued                                  True  \n",
              "outcome                                      warning  \n",
              "contraband_found                                 NaN  \n",
              "contraband_drugs                                 NaN  \n",
              "contraband_weapons                               NaN  \n",
              "frisk_performed                                False  \n",
              "search_conducted                               False  \n",
              "search_person                                  False  \n",
              "search_vehicle                                 False  \n",
              "search_basis                                     NaN  \n",
              "reason_for_frisk                                 NaN  \n",
              "reason_for_search                                NaN  \n",
              "reason_for_stop         Vehicle Regulatory Violation  \n",
              "raw_Ethnicity                                      N  \n",
              "raw_Race                                           B  \n",
              "raw_action_description               Written Warning  "
            ]
          },
          "execution_count": 17,
          "metadata": {},
          "output_type": "execute_result"
        }
      ],
      "source": [
        "df_durham_old.head(5).transpose()"
      ]
    },
    {
      "cell_type": "code",
      "execution_count": null,
      "metadata": {
        "colab": {
          "base_uri": "https://localhost:8080/"
        },
        "id": "UmbCn9ok7miN",
        "outputId": "d01480e8-06d1-4475-b21d-58faebe48410"
      },
      "outputs": [
        {
          "data": {
            "text/plain": [
              "Citation Issued    168351\n",
              "Verbal Warning     111467\n",
              "Written Warning     27751\n",
              "No Action Taken     10782\n",
              "On-View Arrest       7673\n",
              "Name: raw_action_description, dtype: int64"
            ]
          },
          "execution_count": 18,
          "metadata": {},
          "output_type": "execute_result"
        }
      ],
      "source": [
        "df_durham_old[\"raw_action_description\"].value_counts()"
      ]
    },
    {
      "cell_type": "code",
      "execution_count": null,
      "metadata": {
        "colab": {
          "base_uri": "https://localhost:8080/"
        },
        "id": "Silaxf2QFYgs",
        "outputId": "7884232d-6c37-49b2-940d-39e33262b127"
      },
      "outputs": [
        {
          "name": "stdout",
          "output_type": "stream",
          "text": [
            "<class 'pandas.core.frame.DataFrame'>\n",
            "RangeIndex: 326024 entries, 0 to 326023\n",
            "Data columns (total 29 columns):\n",
            " #   Column                  Non-Null Count   Dtype  \n",
            "---  ------                  --------------   -----  \n",
            " 0   raw_row_number          326024 non-null  int64  \n",
            " 1   date                    326024 non-null  object \n",
            " 2   time                    277785 non-null  object \n",
            " 3   location                326024 non-null  object \n",
            " 4   county_name             326024 non-null  object \n",
            " 5   subject_age             326017 non-null  float64\n",
            " 6   subject_race            326023 non-null  object \n",
            " 7   subject_sex             326023 non-null  object \n",
            " 8   officer_id_hash         326024 non-null  object \n",
            " 9   department_name         326024 non-null  object \n",
            " 10  type                    326024 non-null  object \n",
            " 11  arrest_made             326024 non-null  bool   \n",
            " 12  citation_issued         326024 non-null  bool   \n",
            " 13  warning_issued          326024 non-null  bool   \n",
            " 14  outcome                 315242 non-null  object \n",
            " 15  contraband_found        21706 non-null   object \n",
            " 16  contraband_drugs        21706 non-null   object \n",
            " 17  contraband_weapons      21706 non-null   object \n",
            " 18  frisk_performed         326024 non-null  bool   \n",
            " 19  search_conducted        326024 non-null  bool   \n",
            " 20  search_person           326024 non-null  bool   \n",
            " 21  search_vehicle          326024 non-null  bool   \n",
            " 22  search_basis            20932 non-null   object \n",
            " 23  reason_for_frisk        774 non-null     object \n",
            " 24  reason_for_search       21706 non-null   object \n",
            " 25  reason_for_stop         326024 non-null  object \n",
            " 26  raw_Ethnicity           326023 non-null  object \n",
            " 27  raw_Race                326023 non-null  object \n",
            " 28  raw_action_description  326024 non-null  object \n",
            "dtypes: bool(7), float64(1), int64(1), object(20)\n",
            "memory usage: 56.9+ MB\n"
          ]
        }
      ],
      "source": [
        "df_durham_old.info()"
      ]
    },
    {
      "cell_type": "code",
      "execution_count": null,
      "metadata": {
        "colab": {
          "base_uri": "https://localhost:8080/"
        },
        "id": "a4U7KZkS8dRA",
        "outputId": "98c9faa3-11c5-4f64-a8f9-3adcc38f788b"
      },
      "outputs": [
        {
          "data": {
            "text/plain": [
              "False    18615\n",
              "True      3091\n",
              "Name: contraband_drugs, dtype: int64"
            ]
          },
          "execution_count": 20,
          "metadata": {},
          "output_type": "execute_result"
        }
      ],
      "source": [
        "df_durham_old[\"contraband_drugs\"].value_counts()"
      ]
    },
    {
      "cell_type": "code",
      "execution_count": null,
      "metadata": {
        "colab": {
          "base_uri": "https://localhost:8080/"
        },
        "id": "x7GkHoLF7_0B",
        "outputId": "00d84229-eca8-4e10-dfff-0e42430b1c4f"
      },
      "outputs": [
        {
          "data": {
            "text/plain": [
              "Speed Limit Violation            108640\n",
              "Vehicle Regulatory Violation      67409\n",
              "Vehicle Equipment Violation       43267\n",
              "Investigation                     25226\n",
              "Safe Movement Violation           25113\n",
              "Stop Light/Sign Violation         22647\n",
              "Other Motor Vehicle Violation     15383\n",
              "Seat Belt Violation               11311\n",
              "Checkpoint                         5098\n",
              "Driving While Impaired             1930\n",
              "Name: reason_for_stop, dtype: int64"
            ]
          },
          "execution_count": 21,
          "metadata": {},
          "output_type": "execute_result"
        }
      ],
      "source": [
        "df_durham_old[\"reason_for_stop\"].value_counts()"
      ]
    },
    {
      "cell_type": "code",
      "execution_count": null,
      "metadata": {
        "colab": {
          "base_uri": "https://localhost:8080/"
        },
        "id": "5NfbUr2_LsUG",
        "outputId": "1bc49efd-b597-46ca-bdd0-a996d1f0be9e"
      },
      "outputs": [
        {
          "data": {
            "text/plain": [
              "vehicular    326024\n",
              "Name: type, dtype: int64"
            ]
          },
          "execution_count": 22,
          "metadata": {},
          "output_type": "execute_result"
        }
      ],
      "source": [
        "df_durham_old.type.value_counts()"
      ]
    },
    {
      "cell_type": "code",
      "execution_count": null,
      "metadata": {
        "colab": {
          "base_uri": "https://localhost:8080/"
        },
        "id": "QuBD6d5HMLSF",
        "outputId": "4087f8a2-28c3-41a3-e9b3-f8443d517b3e"
      },
      "outputs": [
        {
          "data": {
            "text/plain": [
              "citation    168351\n",
              "warning     139218\n",
              "arrest        7673\n",
              "Name: outcome, dtype: int64"
            ]
          },
          "execution_count": 23,
          "metadata": {},
          "output_type": "execute_result"
        }
      ],
      "source": [
        "df_durham_old.outcome.value_counts()"
      ]
    },
    {
      "cell_type": "code",
      "execution_count": null,
      "metadata": {
        "colab": {
          "base_uri": "https://localhost:8080/"
        },
        "id": "LALkQe_gMUfl",
        "outputId": "6d8b0afb-632c-40b6-fa35-9eb21813b8da"
      },
      "outputs": [
        {
          "data": {
            "text/plain": [
              "Citation Issued    168351\n",
              "Verbal Warning     111467\n",
              "Written Warning     27751\n",
              "No Action Taken     10782\n",
              "On-View Arrest       7673\n",
              "Name: raw_action_description, dtype: int64"
            ]
          },
          "execution_count": 24,
          "metadata": {},
          "output_type": "execute_result"
        }
      ],
      "source": [
        "df_durham_old.raw_action_description.value_counts()"
      ]
    },
    {
      "cell_type": "markdown",
      "metadata": {
        "id": "dSSnS1vrcqwE"
      },
      "source": [
        "## Transforming columns"
      ]
    },
    {
      "cell_type": "code",
      "execution_count": null,
      "metadata": {
        "id": "qMzp_aE9OLbV"
      },
      "outputs": [],
      "source": [
        "# transform date and time columns\n",
        "# format date/time\n",
        "df_durham_old['date_format']=pd.to_datetime(df_durham_old['date'], format='%Y-%m-%d')\n",
        "df_durham_old[\"time_format\"]= pd.to_datetime(df_durham_old.time, format='%H:%M:%S').dt.time\n",
        "df_durham_old['hour'] = pd.to_datetime(df_durham_old.time, format='%H:%M:%S').dt.hour"
      ]
    },
    {
      "cell_type": "code",
      "execution_count": null,
      "metadata": {
        "id": "mkWZcmbzPUs6"
      },
      "outputs": [],
      "source": [
        "# creating new columns from date columns\n",
        "import holidays\n",
        "us_holidays = holidays.country_holidays('US')\n",
        "holidays = df_durham_old['date_format'].apply(lambda x: us_holidays.get(x))\n",
        "df_durham_old['holiday'] = holidays\n",
        "\n",
        "df_durham_old['month'] = df_durham_old['date_format'].dt.month\n",
        "df_durham_old['day_of_week'] = df_durham_old['date_format'].dt.day_of_week\n",
        "df_durham_old['year'] = df_durham_old['date_format'].dt.year\n",
        "\n",
        "# bin time\n",
        "df_durham_old['time_of_day'] = pd.cut(df_durham_old['hour'],\n",
        "                    bins=list(range(0,26,4)),\n",
        "                    labels=['0-4','5-8','9-12','13-16','17-20','21-24'])"
      ]
    },
    {
      "cell_type": "code",
      "execution_count": null,
      "metadata": {
        "id": "uWE-8KKGBsSb"
      },
      "outputs": [],
      "source": [
        "# bin age\n",
        "age_list = [1,16,24,35,45,55,65,100]\n",
        "age_labels = ['under16','16to24','25to35','from36to45','from46to55', 'from56to65','from66tto100']\n",
        "df_durham_old['bin_age'] = pd.cut(df_durham_old['subject_age'],\n",
        "                    bins=age_list,\n",
        "                    labels=age_labels)"
      ]
    },
    {
      "cell_type": "code",
      "execution_count": null,
      "metadata": {
        "id": "gRh_JVSCViJU"
      },
      "outputs": [],
      "source": [
        "# map the variable to True | False | Not-searched\n",
        "list_of_searched_variables = ['contraband_found', 'contraband_drugs', 'contraband_weapons']\n",
        "\n",
        "search_mapping = {False:\"False\", True:\"True\", np.nan:\"Not-searched\"}\n",
        "\n",
        "for col in list_of_searched_variables:\n",
        "  df_durham_old[col] = df_durham_old[col].map(search_mapping)\n",
        "\n",
        "df_durham_old.reason_for_search = df_durham_old.reason_for_search.fillna(\"Not-searched\");"
      ]
    },
    {
      "cell_type": "code",
      "execution_count": null,
      "metadata": {
        "id": "DjVtgCjKaKpH"
      },
      "outputs": [],
      "source": [
        "def find_unique_values_in_columns(column_name, delimiter='|'):\n",
        "  column_list = column_name.unique()\n",
        "  all_elements_list = set()\n",
        "  for str_el in column_list:\n",
        "    if str(str_el) != 'nan':\n",
        "      elements = str_el.split(delimiter)\n",
        "      for el in elements:\n",
        "        all_elements_list.add(el)\n",
        "  return all_elements_list"
      ]
    },
    {
      "cell_type": "code",
      "execution_count": null,
      "metadata": {
        "id": "qRIJF8GleMSi"
      },
      "outputs": [],
      "source": [
        "# separate frisk reasons into different columns\n",
        "prefix = 'reason_for_frisk_'\n",
        "column_name = df_durham_old.reason_for_frisk\n",
        "all_reasons = find_unique_values_in_columns(column_name)\n",
        "for column in list(all_reasons):\n",
        "  df_durham_old[prefix+column] = column_name.str.contains(column)\n",
        "  df_durham_old[prefix+column].fillna(False, inplace=True)"
      ]
    },
    {
      "cell_type": "code",
      "execution_count": null,
      "metadata": {
        "id": "c2zWCTkLEnoR"
      },
      "outputs": [],
      "source": [
        "# separate search reasons into different columns\n",
        "prefix = 'reason_for_search_'\n",
        "column_name = df_durham_old.reason_for_search\n",
        "all_reasons = find_unique_values_in_columns(column_name)\n",
        "for column in list(all_reasons):\n",
        "  df_durham_old[prefix+column] = column_name.str.contains(column)\n",
        "  df_durham_old[prefix+column].fillna(False, inplace=True)"
      ]
    },
    {
      "cell_type": "code",
      "execution_count": null,
      "metadata": {
        "colab": {
          "base_uri": "https://localhost:8080/",
          "height": 1000
        },
        "id": "VOhFFS8LFfEd",
        "outputId": "834f0dc8-d9f7-461c-9974-390b7a3a77f5"
      },
      "outputs": [
        {
          "data": {
            "text/html": [
              "\n",
              "\n",
              "  <div id=\"df-99403512-7006-46ac-8f35-a9562c21ca76\">\n",
              "    <div class=\"colab-df-container\">\n",
              "      <div>\n",
              "<style scoped>\n",
              "    .dataframe tbody tr th:only-of-type {\n",
              "        vertical-align: middle;\n",
              "    }\n",
              "\n",
              "    .dataframe tbody tr th {\n",
              "        vertical-align: top;\n",
              "    }\n",
              "\n",
              "    .dataframe thead th {\n",
              "        text-align: right;\n",
              "    }\n",
              "</style>\n",
              "<table border=\"1\" class=\"dataframe\">\n",
              "  <thead>\n",
              "    <tr style=\"text-align: right;\">\n",
              "      <th></th>\n",
              "      <th>0</th>\n",
              "      <th>1</th>\n",
              "      <th>2</th>\n",
              "      <th>3</th>\n",
              "      <th>4</th>\n",
              "    </tr>\n",
              "  </thead>\n",
              "  <tbody>\n",
              "    <tr>\n",
              "      <th>raw_row_number</th>\n",
              "      <td>1219541</td>\n",
              "      <td>1221117</td>\n",
              "      <td>1221124</td>\n",
              "      <td>1221133</td>\n",
              "      <td>1221146</td>\n",
              "    </tr>\n",
              "    <tr>\n",
              "      <th>date</th>\n",
              "      <td>2001-12-28</td>\n",
              "      <td>2002-01-02</td>\n",
              "      <td>2002-01-02</td>\n",
              "      <td>2002-01-02</td>\n",
              "      <td>2002-01-02</td>\n",
              "    </tr>\n",
              "    <tr>\n",
              "      <th>time</th>\n",
              "      <td>NaN</td>\n",
              "      <td>04:00:00</td>\n",
              "      <td>NaN</td>\n",
              "      <td>19:50:00</td>\n",
              "      <td>20:45:00</td>\n",
              "    </tr>\n",
              "    <tr>\n",
              "      <th>location</th>\n",
              "      <td>Durham, Durham County</td>\n",
              "      <td>Durham, Durham County</td>\n",
              "      <td>Durham, Durham County</td>\n",
              "      <td>Durham, Durham County</td>\n",
              "      <td>Durham, Durham County</td>\n",
              "    </tr>\n",
              "    <tr>\n",
              "      <th>county_name</th>\n",
              "      <td>Durham County</td>\n",
              "      <td>Durham County</td>\n",
              "      <td>Durham County</td>\n",
              "      <td>Durham County</td>\n",
              "      <td>Durham County</td>\n",
              "    </tr>\n",
              "    <tr>\n",
              "      <th>subject_age</th>\n",
              "      <td>22.0</td>\n",
              "      <td>28.0</td>\n",
              "      <td>21.0</td>\n",
              "      <td>28.0</td>\n",
              "      <td>36.0</td>\n",
              "    </tr>\n",
              "    <tr>\n",
              "      <th>subject_race</th>\n",
              "      <td>black</td>\n",
              "      <td>hispanic</td>\n",
              "      <td>black</td>\n",
              "      <td>black</td>\n",
              "      <td>black</td>\n",
              "    </tr>\n",
              "    <tr>\n",
              "      <th>subject_sex</th>\n",
              "      <td>female</td>\n",
              "      <td>male</td>\n",
              "      <td>male</td>\n",
              "      <td>female</td>\n",
              "      <td>female</td>\n",
              "    </tr>\n",
              "    <tr>\n",
              "      <th>officer_id_hash</th>\n",
              "      <td>5b9908c1a5</td>\n",
              "      <td>0c140e68b5</td>\n",
              "      <td>0c140e68b5</td>\n",
              "      <td>41b05be9b1</td>\n",
              "      <td>41b05be9b1</td>\n",
              "    </tr>\n",
              "    <tr>\n",
              "      <th>department_name</th>\n",
              "      <td>Durham Police Department</td>\n",
              "      <td>Durham Police Department</td>\n",
              "      <td>Durham Police Department</td>\n",
              "      <td>Durham Police Department</td>\n",
              "      <td>Durham Police Department</td>\n",
              "    </tr>\n",
              "    <tr>\n",
              "      <th>type</th>\n",
              "      <td>vehicular</td>\n",
              "      <td>vehicular</td>\n",
              "      <td>vehicular</td>\n",
              "      <td>vehicular</td>\n",
              "      <td>vehicular</td>\n",
              "    </tr>\n",
              "    <tr>\n",
              "      <th>arrest_made</th>\n",
              "      <td>False</td>\n",
              "      <td>False</td>\n",
              "      <td>False</td>\n",
              "      <td>False</td>\n",
              "      <td>False</td>\n",
              "    </tr>\n",
              "    <tr>\n",
              "      <th>citation_issued</th>\n",
              "      <td>False</td>\n",
              "      <td>True</td>\n",
              "      <td>False</td>\n",
              "      <td>True</td>\n",
              "      <td>False</td>\n",
              "    </tr>\n",
              "    <tr>\n",
              "      <th>warning_issued</th>\n",
              "      <td>True</td>\n",
              "      <td>False</td>\n",
              "      <td>True</td>\n",
              "      <td>False</td>\n",
              "      <td>True</td>\n",
              "    </tr>\n",
              "    <tr>\n",
              "      <th>outcome</th>\n",
              "      <td>warning</td>\n",
              "      <td>citation</td>\n",
              "      <td>warning</td>\n",
              "      <td>citation</td>\n",
              "      <td>warning</td>\n",
              "    </tr>\n",
              "    <tr>\n",
              "      <th>contraband_found</th>\n",
              "      <td>Not-searched</td>\n",
              "      <td>Not-searched</td>\n",
              "      <td>Not-searched</td>\n",
              "      <td>Not-searched</td>\n",
              "      <td>Not-searched</td>\n",
              "    </tr>\n",
              "    <tr>\n",
              "      <th>contraband_drugs</th>\n",
              "      <td>Not-searched</td>\n",
              "      <td>Not-searched</td>\n",
              "      <td>Not-searched</td>\n",
              "      <td>Not-searched</td>\n",
              "      <td>Not-searched</td>\n",
              "    </tr>\n",
              "    <tr>\n",
              "      <th>contraband_weapons</th>\n",
              "      <td>Not-searched</td>\n",
              "      <td>Not-searched</td>\n",
              "      <td>Not-searched</td>\n",
              "      <td>Not-searched</td>\n",
              "      <td>Not-searched</td>\n",
              "    </tr>\n",
              "    <tr>\n",
              "      <th>frisk_performed</th>\n",
              "      <td>False</td>\n",
              "      <td>False</td>\n",
              "      <td>False</td>\n",
              "      <td>False</td>\n",
              "      <td>False</td>\n",
              "    </tr>\n",
              "    <tr>\n",
              "      <th>search_conducted</th>\n",
              "      <td>False</td>\n",
              "      <td>False</td>\n",
              "      <td>False</td>\n",
              "      <td>False</td>\n",
              "      <td>False</td>\n",
              "    </tr>\n",
              "    <tr>\n",
              "      <th>search_person</th>\n",
              "      <td>False</td>\n",
              "      <td>False</td>\n",
              "      <td>False</td>\n",
              "      <td>False</td>\n",
              "      <td>False</td>\n",
              "    </tr>\n",
              "    <tr>\n",
              "      <th>search_vehicle</th>\n",
              "      <td>False</td>\n",
              "      <td>False</td>\n",
              "      <td>False</td>\n",
              "      <td>False</td>\n",
              "      <td>False</td>\n",
              "    </tr>\n",
              "    <tr>\n",
              "      <th>search_basis</th>\n",
              "      <td>NaN</td>\n",
              "      <td>NaN</td>\n",
              "      <td>NaN</td>\n",
              "      <td>NaN</td>\n",
              "      <td>NaN</td>\n",
              "    </tr>\n",
              "    <tr>\n",
              "      <th>reason_for_frisk</th>\n",
              "      <td>NaN</td>\n",
              "      <td>NaN</td>\n",
              "      <td>NaN</td>\n",
              "      <td>NaN</td>\n",
              "      <td>NaN</td>\n",
              "    </tr>\n",
              "    <tr>\n",
              "      <th>reason_for_search</th>\n",
              "      <td>Not-searched</td>\n",
              "      <td>Not-searched</td>\n",
              "      <td>Not-searched</td>\n",
              "      <td>Not-searched</td>\n",
              "      <td>Not-searched</td>\n",
              "    </tr>\n",
              "    <tr>\n",
              "      <th>reason_for_stop</th>\n",
              "      <td>Investigation</td>\n",
              "      <td>Stop Light/Sign Violation</td>\n",
              "      <td>Vehicle Equipment Violation</td>\n",
              "      <td>Vehicle Regulatory Violation</td>\n",
              "      <td>Vehicle Regulatory Violation</td>\n",
              "    </tr>\n",
              "    <tr>\n",
              "      <th>raw_Ethnicity</th>\n",
              "      <td>N</td>\n",
              "      <td>H</td>\n",
              "      <td>N</td>\n",
              "      <td>N</td>\n",
              "      <td>N</td>\n",
              "    </tr>\n",
              "    <tr>\n",
              "      <th>raw_Race</th>\n",
              "      <td>B</td>\n",
              "      <td>W</td>\n",
              "      <td>B</td>\n",
              "      <td>B</td>\n",
              "      <td>B</td>\n",
              "    </tr>\n",
              "    <tr>\n",
              "      <th>raw_action_description</th>\n",
              "      <td>Verbal Warning</td>\n",
              "      <td>Citation Issued</td>\n",
              "      <td>Verbal Warning</td>\n",
              "      <td>Citation Issued</td>\n",
              "      <td>Written Warning</td>\n",
              "    </tr>\n",
              "    <tr>\n",
              "      <th>date_format</th>\n",
              "      <td>2001-12-28 00:00:00</td>\n",
              "      <td>2002-01-02 00:00:00</td>\n",
              "      <td>2002-01-02 00:00:00</td>\n",
              "      <td>2002-01-02 00:00:00</td>\n",
              "      <td>2002-01-02 00:00:00</td>\n",
              "    </tr>\n",
              "    <tr>\n",
              "      <th>time_format</th>\n",
              "      <td>NaT</td>\n",
              "      <td>04:00:00</td>\n",
              "      <td>NaT</td>\n",
              "      <td>19:50:00</td>\n",
              "      <td>20:45:00</td>\n",
              "    </tr>\n",
              "    <tr>\n",
              "      <th>hour</th>\n",
              "      <td>NaN</td>\n",
              "      <td>4.0</td>\n",
              "      <td>NaN</td>\n",
              "      <td>19.0</td>\n",
              "      <td>20.0</td>\n",
              "    </tr>\n",
              "    <tr>\n",
              "      <th>holiday</th>\n",
              "      <td>None</td>\n",
              "      <td>None</td>\n",
              "      <td>None</td>\n",
              "      <td>None</td>\n",
              "      <td>None</td>\n",
              "    </tr>\n",
              "    <tr>\n",
              "      <th>month</th>\n",
              "      <td>12</td>\n",
              "      <td>1</td>\n",
              "      <td>1</td>\n",
              "      <td>1</td>\n",
              "      <td>1</td>\n",
              "    </tr>\n",
              "    <tr>\n",
              "      <th>day_of_week</th>\n",
              "      <td>4</td>\n",
              "      <td>2</td>\n",
              "      <td>2</td>\n",
              "      <td>2</td>\n",
              "      <td>2</td>\n",
              "    </tr>\n",
              "    <tr>\n",
              "      <th>year</th>\n",
              "      <td>2001</td>\n",
              "      <td>2002</td>\n",
              "      <td>2002</td>\n",
              "      <td>2002</td>\n",
              "      <td>2002</td>\n",
              "    </tr>\n",
              "    <tr>\n",
              "      <th>time_of_day</th>\n",
              "      <td>NaN</td>\n",
              "      <td>0-4</td>\n",
              "      <td>NaN</td>\n",
              "      <td>17-20</td>\n",
              "      <td>17-20</td>\n",
              "    </tr>\n",
              "    <tr>\n",
              "      <th>bin_age</th>\n",
              "      <td>16to24</td>\n",
              "      <td>25to35</td>\n",
              "      <td>16to24</td>\n",
              "      <td>25to35</td>\n",
              "      <td>from36to45</td>\n",
              "    </tr>\n",
              "    <tr>\n",
              "      <th>reason_for_frisk_Other Official Information</th>\n",
              "      <td>False</td>\n",
              "      <td>False</td>\n",
              "      <td>False</td>\n",
              "      <td>False</td>\n",
              "      <td>False</td>\n",
              "    </tr>\n",
              "    <tr>\n",
              "      <th>reason_for_frisk_Informant Tip</th>\n",
              "      <td>False</td>\n",
              "      <td>False</td>\n",
              "      <td>False</td>\n",
              "      <td>False</td>\n",
              "      <td>False</td>\n",
              "    </tr>\n",
              "    <tr>\n",
              "      <th>reason_for_frisk_Suspicious Movement</th>\n",
              "      <td>False</td>\n",
              "      <td>False</td>\n",
              "      <td>False</td>\n",
              "      <td>False</td>\n",
              "      <td>False</td>\n",
              "    </tr>\n",
              "    <tr>\n",
              "      <th>reason_for_frisk_Observation of Suspected Contraband</th>\n",
              "      <td>False</td>\n",
              "      <td>False</td>\n",
              "      <td>False</td>\n",
              "      <td>False</td>\n",
              "      <td>False</td>\n",
              "    </tr>\n",
              "    <tr>\n",
              "      <th>reason_for_frisk_Erratic/Suspicious Behavior</th>\n",
              "      <td>False</td>\n",
              "      <td>False</td>\n",
              "      <td>False</td>\n",
              "      <td>False</td>\n",
              "      <td>False</td>\n",
              "    </tr>\n",
              "    <tr>\n",
              "      <th>reason_for_frisk_Witness Observation</th>\n",
              "      <td>False</td>\n",
              "      <td>False</td>\n",
              "      <td>False</td>\n",
              "      <td>False</td>\n",
              "      <td>False</td>\n",
              "    </tr>\n",
              "    <tr>\n",
              "      <th>reason_for_search_Other Official Information</th>\n",
              "      <td>False</td>\n",
              "      <td>False</td>\n",
              "      <td>False</td>\n",
              "      <td>False</td>\n",
              "      <td>False</td>\n",
              "    </tr>\n",
              "    <tr>\n",
              "      <th>reason_for_search_Informant Tip</th>\n",
              "      <td>False</td>\n",
              "      <td>False</td>\n",
              "      <td>False</td>\n",
              "      <td>False</td>\n",
              "      <td>False</td>\n",
              "    </tr>\n",
              "    <tr>\n",
              "      <th>reason_for_search_Suspicious Movement</th>\n",
              "      <td>False</td>\n",
              "      <td>False</td>\n",
              "      <td>False</td>\n",
              "      <td>False</td>\n",
              "      <td>False</td>\n",
              "    </tr>\n",
              "    <tr>\n",
              "      <th>reason_for_search_Not-searched</th>\n",
              "      <td>True</td>\n",
              "      <td>True</td>\n",
              "      <td>True</td>\n",
              "      <td>True</td>\n",
              "      <td>True</td>\n",
              "    </tr>\n",
              "    <tr>\n",
              "      <th>reason_for_search_Observation of Suspected Contraband</th>\n",
              "      <td>False</td>\n",
              "      <td>False</td>\n",
              "      <td>False</td>\n",
              "      <td>False</td>\n",
              "      <td>False</td>\n",
              "    </tr>\n",
              "    <tr>\n",
              "      <th>reason_for_search_Erratic/Suspicious Behavior</th>\n",
              "      <td>False</td>\n",
              "      <td>False</td>\n",
              "      <td>False</td>\n",
              "      <td>False</td>\n",
              "      <td>False</td>\n",
              "    </tr>\n",
              "    <tr>\n",
              "      <th>reason_for_search_Witness Observation</th>\n",
              "      <td>False</td>\n",
              "      <td>False</td>\n",
              "      <td>False</td>\n",
              "      <td>False</td>\n",
              "      <td>False</td>\n",
              "    </tr>\n",
              "  </tbody>\n",
              "</table>\n",
              "</div>\n",
              "      <button class=\"colab-df-convert\" onclick=\"convertToInteractive('df-99403512-7006-46ac-8f35-a9562c21ca76')\"\n",
              "              title=\"Convert this dataframe to an interactive table.\"\n",
              "              style=\"display:none;\">\n",
              "\n",
              "  <svg xmlns=\"http://www.w3.org/2000/svg\" height=\"24px\"viewBox=\"0 0 24 24\"\n",
              "       width=\"24px\">\n",
              "    <path d=\"M0 0h24v24H0V0z\" fill=\"none\"/>\n",
              "    <path d=\"M18.56 5.44l.94 2.06.94-2.06 2.06-.94-2.06-.94-.94-2.06-.94 2.06-2.06.94zm-11 1L8.5 8.5l.94-2.06 2.06-.94-2.06-.94L8.5 2.5l-.94 2.06-2.06.94zm10 10l.94 2.06.94-2.06 2.06-.94-2.06-.94-.94-2.06-.94 2.06-2.06.94z\"/><path d=\"M17.41 7.96l-1.37-1.37c-.4-.4-.92-.59-1.43-.59-.52 0-1.04.2-1.43.59L10.3 9.45l-7.72 7.72c-.78.78-.78 2.05 0 2.83L4 21.41c.39.39.9.59 1.41.59.51 0 1.02-.2 1.41-.59l7.78-7.78 2.81-2.81c.8-.78.8-2.07 0-2.86zM5.41 20L4 18.59l7.72-7.72 1.47 1.35L5.41 20z\"/>\n",
              "  </svg>\n",
              "      </button>\n",
              "\n",
              "\n",
              "\n",
              "    <div id=\"df-923fbce1-013d-4e97-b523-c8c9fd5b9b9c\">\n",
              "      <button class=\"colab-df-quickchart\" onclick=\"quickchart('df-923fbce1-013d-4e97-b523-c8c9fd5b9b9c')\"\n",
              "              title=\"Suggest charts.\"\n",
              "              style=\"display:none;\">\n",
              "\n",
              "<svg xmlns=\"http://www.w3.org/2000/svg\" height=\"24px\"viewBox=\"0 0 24 24\"\n",
              "     width=\"24px\">\n",
              "    <g>\n",
              "        <path d=\"M19 3H5c-1.1 0-2 .9-2 2v14c0 1.1.9 2 2 2h14c1.1 0 2-.9 2-2V5c0-1.1-.9-2-2-2zM9 17H7v-7h2v7zm4 0h-2V7h2v10zm4 0h-2v-4h2v4z\"/>\n",
              "    </g>\n",
              "</svg>\n",
              "      </button>\n",
              "    </div>\n",
              "\n",
              "<style>\n",
              "  .colab-df-quickchart {\n",
              "    background-color: #E8F0FE;\n",
              "    border: none;\n",
              "    border-radius: 50%;\n",
              "    cursor: pointer;\n",
              "    display: none;\n",
              "    fill: #1967D2;\n",
              "    height: 32px;\n",
              "    padding: 0 0 0 0;\n",
              "    width: 32px;\n",
              "  }\n",
              "\n",
              "  .colab-df-quickchart:hover {\n",
              "    background-color: #E2EBFA;\n",
              "    box-shadow: 0px 1px 2px rgba(60, 64, 67, 0.3), 0px 1px 3px 1px rgba(60, 64, 67, 0.15);\n",
              "    fill: #174EA6;\n",
              "  }\n",
              "\n",
              "  [theme=dark] .colab-df-quickchart {\n",
              "    background-color: #3B4455;\n",
              "    fill: #D2E3FC;\n",
              "  }\n",
              "\n",
              "  [theme=dark] .colab-df-quickchart:hover {\n",
              "    background-color: #434B5C;\n",
              "    box-shadow: 0px 1px 3px 1px rgba(0, 0, 0, 0.15);\n",
              "    filter: drop-shadow(0px 1px 2px rgba(0, 0, 0, 0.3));\n",
              "    fill: #FFFFFF;\n",
              "  }\n",
              "</style>\n",
              "\n",
              "    <script>\n",
              "      async function quickchart(key) {\n",
              "        const containerElement = document.querySelector('#' + key);\n",
              "        const charts = await google.colab.kernel.invokeFunction(\n",
              "            'suggestCharts', [key], {});\n",
              "      }\n",
              "    </script>\n",
              "\n",
              "      <script>\n",
              "\n",
              "function displayQuickchartButton(domScope) {\n",
              "  let quickchartButtonEl =\n",
              "    domScope.querySelector('#df-923fbce1-013d-4e97-b523-c8c9fd5b9b9c button.colab-df-quickchart');\n",
              "  quickchartButtonEl.style.display =\n",
              "    google.colab.kernel.accessAllowed ? 'block' : 'none';\n",
              "}\n",
              "\n",
              "        displayQuickchartButton(document);\n",
              "      </script>\n",
              "      <style>\n",
              "    .colab-df-container {\n",
              "      display:flex;\n",
              "      flex-wrap:wrap;\n",
              "      gap: 12px;\n",
              "    }\n",
              "\n",
              "    .colab-df-convert {\n",
              "      background-color: #E8F0FE;\n",
              "      border: none;\n",
              "      border-radius: 50%;\n",
              "      cursor: pointer;\n",
              "      display: none;\n",
              "      fill: #1967D2;\n",
              "      height: 32px;\n",
              "      padding: 0 0 0 0;\n",
              "      width: 32px;\n",
              "    }\n",
              "\n",
              "    .colab-df-convert:hover {\n",
              "      background-color: #E2EBFA;\n",
              "      box-shadow: 0px 1px 2px rgba(60, 64, 67, 0.3), 0px 1px 3px 1px rgba(60, 64, 67, 0.15);\n",
              "      fill: #174EA6;\n",
              "    }\n",
              "\n",
              "    [theme=dark] .colab-df-convert {\n",
              "      background-color: #3B4455;\n",
              "      fill: #D2E3FC;\n",
              "    }\n",
              "\n",
              "    [theme=dark] .colab-df-convert:hover {\n",
              "      background-color: #434B5C;\n",
              "      box-shadow: 0px 1px 3px 1px rgba(0, 0, 0, 0.15);\n",
              "      filter: drop-shadow(0px 1px 2px rgba(0, 0, 0, 0.3));\n",
              "      fill: #FFFFFF;\n",
              "    }\n",
              "  </style>\n",
              "\n",
              "      <script>\n",
              "        const buttonEl =\n",
              "          document.querySelector('#df-99403512-7006-46ac-8f35-a9562c21ca76 button.colab-df-convert');\n",
              "        buttonEl.style.display =\n",
              "          google.colab.kernel.accessAllowed ? 'block' : 'none';\n",
              "\n",
              "        async function convertToInteractive(key) {\n",
              "          const element = document.querySelector('#df-99403512-7006-46ac-8f35-a9562c21ca76');\n",
              "          const dataTable =\n",
              "            await google.colab.kernel.invokeFunction('convertToInteractive',\n",
              "                                                     [key], {});\n",
              "          if (!dataTable) return;\n",
              "\n",
              "          const docLinkHtml = 'Like what you see? Visit the ' +\n",
              "            '<a target=\"_blank\" href=https://colab.research.google.com/notebooks/data_table.ipynb>data table notebook</a>'\n",
              "            + ' to learn more about interactive tables.';\n",
              "          element.innerHTML = '';\n",
              "          dataTable['output_type'] = 'display_data';\n",
              "          await google.colab.output.renderOutput(dataTable, element);\n",
              "          const docLink = document.createElement('div');\n",
              "          docLink.innerHTML = docLinkHtml;\n",
              "          element.appendChild(docLink);\n",
              "        }\n",
              "      </script>\n",
              "    </div>\n",
              "  </div>\n"
            ],
            "text/plain": [
              "                                                                           0  \\\n",
              "raw_row_number                                                       1219541   \n",
              "date                                                              2001-12-28   \n",
              "time                                                                     NaN   \n",
              "location                                               Durham, Durham County   \n",
              "county_name                                                    Durham County   \n",
              "subject_age                                                             22.0   \n",
              "subject_race                                                           black   \n",
              "subject_sex                                                           female   \n",
              "officer_id_hash                                                   5b9908c1a5   \n",
              "department_name                                     Durham Police Department   \n",
              "type                                                               vehicular   \n",
              "arrest_made                                                            False   \n",
              "citation_issued                                                        False   \n",
              "warning_issued                                                          True   \n",
              "outcome                                                              warning   \n",
              "contraband_found                                                Not-searched   \n",
              "contraband_drugs                                                Not-searched   \n",
              "contraband_weapons                                              Not-searched   \n",
              "frisk_performed                                                        False   \n",
              "search_conducted                                                       False   \n",
              "search_person                                                          False   \n",
              "search_vehicle                                                         False   \n",
              "search_basis                                                             NaN   \n",
              "reason_for_frisk                                                         NaN   \n",
              "reason_for_search                                               Not-searched   \n",
              "reason_for_stop                                                Investigation   \n",
              "raw_Ethnicity                                                              N   \n",
              "raw_Race                                                                   B   \n",
              "raw_action_description                                        Verbal Warning   \n",
              "date_format                                              2001-12-28 00:00:00   \n",
              "time_format                                                              NaT   \n",
              "hour                                                                     NaN   \n",
              "holiday                                                                 None   \n",
              "month                                                                     12   \n",
              "day_of_week                                                                4   \n",
              "year                                                                    2001   \n",
              "time_of_day                                                              NaN   \n",
              "bin_age                                                               16to24   \n",
              "reason_for_frisk_Other Official Information                            False   \n",
              "reason_for_frisk_Informant Tip                                         False   \n",
              "reason_for_frisk_Suspicious Movement                                   False   \n",
              "reason_for_frisk_Observation of Suspected Contr...                     False   \n",
              "reason_for_frisk_Erratic/Suspicious Behavior                           False   \n",
              "reason_for_frisk_Witness Observation                                   False   \n",
              "reason_for_search_Other Official Information                           False   \n",
              "reason_for_search_Informant Tip                                        False   \n",
              "reason_for_search_Suspicious Movement                                  False   \n",
              "reason_for_search_Not-searched                                          True   \n",
              "reason_for_search_Observation of Suspected Cont...                     False   \n",
              "reason_for_search_Erratic/Suspicious Behavior                          False   \n",
              "reason_for_search_Witness Observation                                  False   \n",
              "\n",
              "                                                                            1  \\\n",
              "raw_row_number                                                        1221117   \n",
              "date                                                               2002-01-02   \n",
              "time                                                                 04:00:00   \n",
              "location                                                Durham, Durham County   \n",
              "county_name                                                     Durham County   \n",
              "subject_age                                                              28.0   \n",
              "subject_race                                                         hispanic   \n",
              "subject_sex                                                              male   \n",
              "officer_id_hash                                                    0c140e68b5   \n",
              "department_name                                      Durham Police Department   \n",
              "type                                                                vehicular   \n",
              "arrest_made                                                             False   \n",
              "citation_issued                                                          True   \n",
              "warning_issued                                                          False   \n",
              "outcome                                                              citation   \n",
              "contraband_found                                                 Not-searched   \n",
              "contraband_drugs                                                 Not-searched   \n",
              "contraband_weapons                                               Not-searched   \n",
              "frisk_performed                                                         False   \n",
              "search_conducted                                                        False   \n",
              "search_person                                                           False   \n",
              "search_vehicle                                                          False   \n",
              "search_basis                                                              NaN   \n",
              "reason_for_frisk                                                          NaN   \n",
              "reason_for_search                                                Not-searched   \n",
              "reason_for_stop                                     Stop Light/Sign Violation   \n",
              "raw_Ethnicity                                                               H   \n",
              "raw_Race                                                                    W   \n",
              "raw_action_description                                        Citation Issued   \n",
              "date_format                                               2002-01-02 00:00:00   \n",
              "time_format                                                          04:00:00   \n",
              "hour                                                                      4.0   \n",
              "holiday                                                                  None   \n",
              "month                                                                       1   \n",
              "day_of_week                                                                 2   \n",
              "year                                                                     2002   \n",
              "time_of_day                                                               0-4   \n",
              "bin_age                                                                25to35   \n",
              "reason_for_frisk_Other Official Information                             False   \n",
              "reason_for_frisk_Informant Tip                                          False   \n",
              "reason_for_frisk_Suspicious Movement                                    False   \n",
              "reason_for_frisk_Observation of Suspected Contr...                      False   \n",
              "reason_for_frisk_Erratic/Suspicious Behavior                            False   \n",
              "reason_for_frisk_Witness Observation                                    False   \n",
              "reason_for_search_Other Official Information                            False   \n",
              "reason_for_search_Informant Tip                                         False   \n",
              "reason_for_search_Suspicious Movement                                   False   \n",
              "reason_for_search_Not-searched                                           True   \n",
              "reason_for_search_Observation of Suspected Cont...                      False   \n",
              "reason_for_search_Erratic/Suspicious Behavior                           False   \n",
              "reason_for_search_Witness Observation                                   False   \n",
              "\n",
              "                                                                              2  \\\n",
              "raw_row_number                                                          1221124   \n",
              "date                                                                 2002-01-02   \n",
              "time                                                                        NaN   \n",
              "location                                                  Durham, Durham County   \n",
              "county_name                                                       Durham County   \n",
              "subject_age                                                                21.0   \n",
              "subject_race                                                              black   \n",
              "subject_sex                                                                male   \n",
              "officer_id_hash                                                      0c140e68b5   \n",
              "department_name                                        Durham Police Department   \n",
              "type                                                                  vehicular   \n",
              "arrest_made                                                               False   \n",
              "citation_issued                                                           False   \n",
              "warning_issued                                                             True   \n",
              "outcome                                                                 warning   \n",
              "contraband_found                                                   Not-searched   \n",
              "contraband_drugs                                                   Not-searched   \n",
              "contraband_weapons                                                 Not-searched   \n",
              "frisk_performed                                                           False   \n",
              "search_conducted                                                          False   \n",
              "search_person                                                             False   \n",
              "search_vehicle                                                            False   \n",
              "search_basis                                                                NaN   \n",
              "reason_for_frisk                                                            NaN   \n",
              "reason_for_search                                                  Not-searched   \n",
              "reason_for_stop                                     Vehicle Equipment Violation   \n",
              "raw_Ethnicity                                                                 N   \n",
              "raw_Race                                                                      B   \n",
              "raw_action_description                                           Verbal Warning   \n",
              "date_format                                                 2002-01-02 00:00:00   \n",
              "time_format                                                                 NaT   \n",
              "hour                                                                        NaN   \n",
              "holiday                                                                    None   \n",
              "month                                                                         1   \n",
              "day_of_week                                                                   2   \n",
              "year                                                                       2002   \n",
              "time_of_day                                                                 NaN   \n",
              "bin_age                                                                  16to24   \n",
              "reason_for_frisk_Other Official Information                               False   \n",
              "reason_for_frisk_Informant Tip                                            False   \n",
              "reason_for_frisk_Suspicious Movement                                      False   \n",
              "reason_for_frisk_Observation of Suspected Contr...                        False   \n",
              "reason_for_frisk_Erratic/Suspicious Behavior                              False   \n",
              "reason_for_frisk_Witness Observation                                      False   \n",
              "reason_for_search_Other Official Information                              False   \n",
              "reason_for_search_Informant Tip                                           False   \n",
              "reason_for_search_Suspicious Movement                                     False   \n",
              "reason_for_search_Not-searched                                             True   \n",
              "reason_for_search_Observation of Suspected Cont...                        False   \n",
              "reason_for_search_Erratic/Suspicious Behavior                             False   \n",
              "reason_for_search_Witness Observation                                     False   \n",
              "\n",
              "                                                                               3  \\\n",
              "raw_row_number                                                           1221133   \n",
              "date                                                                  2002-01-02   \n",
              "time                                                                    19:50:00   \n",
              "location                                                   Durham, Durham County   \n",
              "county_name                                                        Durham County   \n",
              "subject_age                                                                 28.0   \n",
              "subject_race                                                               black   \n",
              "subject_sex                                                               female   \n",
              "officer_id_hash                                                       41b05be9b1   \n",
              "department_name                                         Durham Police Department   \n",
              "type                                                                   vehicular   \n",
              "arrest_made                                                                False   \n",
              "citation_issued                                                             True   \n",
              "warning_issued                                                             False   \n",
              "outcome                                                                 citation   \n",
              "contraband_found                                                    Not-searched   \n",
              "contraband_drugs                                                    Not-searched   \n",
              "contraband_weapons                                                  Not-searched   \n",
              "frisk_performed                                                            False   \n",
              "search_conducted                                                           False   \n",
              "search_person                                                              False   \n",
              "search_vehicle                                                             False   \n",
              "search_basis                                                                 NaN   \n",
              "reason_for_frisk                                                             NaN   \n",
              "reason_for_search                                                   Not-searched   \n",
              "reason_for_stop                                     Vehicle Regulatory Violation   \n",
              "raw_Ethnicity                                                                  N   \n",
              "raw_Race                                                                       B   \n",
              "raw_action_description                                           Citation Issued   \n",
              "date_format                                                  2002-01-02 00:00:00   \n",
              "time_format                                                             19:50:00   \n",
              "hour                                                                        19.0   \n",
              "holiday                                                                     None   \n",
              "month                                                                          1   \n",
              "day_of_week                                                                    2   \n",
              "year                                                                        2002   \n",
              "time_of_day                                                                17-20   \n",
              "bin_age                                                                   25to35   \n",
              "reason_for_frisk_Other Official Information                                False   \n",
              "reason_for_frisk_Informant Tip                                             False   \n",
              "reason_for_frisk_Suspicious Movement                                       False   \n",
              "reason_for_frisk_Observation of Suspected Contr...                         False   \n",
              "reason_for_frisk_Erratic/Suspicious Behavior                               False   \n",
              "reason_for_frisk_Witness Observation                                       False   \n",
              "reason_for_search_Other Official Information                               False   \n",
              "reason_for_search_Informant Tip                                            False   \n",
              "reason_for_search_Suspicious Movement                                      False   \n",
              "reason_for_search_Not-searched                                              True   \n",
              "reason_for_search_Observation of Suspected Cont...                         False   \n",
              "reason_for_search_Erratic/Suspicious Behavior                              False   \n",
              "reason_for_search_Witness Observation                                      False   \n",
              "\n",
              "                                                                               4  \n",
              "raw_row_number                                                           1221146  \n",
              "date                                                                  2002-01-02  \n",
              "time                                                                    20:45:00  \n",
              "location                                                   Durham, Durham County  \n",
              "county_name                                                        Durham County  \n",
              "subject_age                                                                 36.0  \n",
              "subject_race                                                               black  \n",
              "subject_sex                                                               female  \n",
              "officer_id_hash                                                       41b05be9b1  \n",
              "department_name                                         Durham Police Department  \n",
              "type                                                                   vehicular  \n",
              "arrest_made                                                                False  \n",
              "citation_issued                                                            False  \n",
              "warning_issued                                                              True  \n",
              "outcome                                                                  warning  \n",
              "contraband_found                                                    Not-searched  \n",
              "contraband_drugs                                                    Not-searched  \n",
              "contraband_weapons                                                  Not-searched  \n",
              "frisk_performed                                                            False  \n",
              "search_conducted                                                           False  \n",
              "search_person                                                              False  \n",
              "search_vehicle                                                             False  \n",
              "search_basis                                                                 NaN  \n",
              "reason_for_frisk                                                             NaN  \n",
              "reason_for_search                                                   Not-searched  \n",
              "reason_for_stop                                     Vehicle Regulatory Violation  \n",
              "raw_Ethnicity                                                                  N  \n",
              "raw_Race                                                                       B  \n",
              "raw_action_description                                           Written Warning  \n",
              "date_format                                                  2002-01-02 00:00:00  \n",
              "time_format                                                             20:45:00  \n",
              "hour                                                                        20.0  \n",
              "holiday                                                                     None  \n",
              "month                                                                          1  \n",
              "day_of_week                                                                    2  \n",
              "year                                                                        2002  \n",
              "time_of_day                                                                17-20  \n",
              "bin_age                                                               from36to45  \n",
              "reason_for_frisk_Other Official Information                                False  \n",
              "reason_for_frisk_Informant Tip                                             False  \n",
              "reason_for_frisk_Suspicious Movement                                       False  \n",
              "reason_for_frisk_Observation of Suspected Contr...                         False  \n",
              "reason_for_frisk_Erratic/Suspicious Behavior                               False  \n",
              "reason_for_frisk_Witness Observation                                       False  \n",
              "reason_for_search_Other Official Information                               False  \n",
              "reason_for_search_Informant Tip                                            False  \n",
              "reason_for_search_Suspicious Movement                                      False  \n",
              "reason_for_search_Not-searched                                              True  \n",
              "reason_for_search_Observation of Suspected Cont...                         False  \n",
              "reason_for_search_Erratic/Suspicious Behavior                              False  \n",
              "reason_for_search_Witness Observation                                      False  "
            ]
          },
          "execution_count": 32,
          "metadata": {},
          "output_type": "execute_result"
        }
      ],
      "source": [
        "df_durham_old.head().transpose()"
      ]
    },
    {
      "cell_type": "code",
      "execution_count": null,
      "metadata": {
        "id": "0jd6qemTd3PH"
      },
      "outputs": [],
      "source": [
        "delete_columns = ['raw_row_number', 'date', 'time', 'location', 'officer_id_hash', 'subject_age',\n",
        "       'type', 'reason_for_frisk', 'reason_for_search', 'raw_Ethnicity', 'raw_Race',\n",
        "       'raw_action_description', 'county', 'date_format', 'time_format',\n",
        "       'hour']"
      ]
    },
    {
      "cell_type": "code",
      "execution_count": null,
      "metadata": {
        "id": "nwSiVIJ0fXl2"
      },
      "outputs": [],
      "source": [
        "df_durham_old.drop(columns = delete_columns, axis=1, inplace=True, errors='ignore')"
      ]
    },
    {
      "cell_type": "markdown",
      "metadata": {
        "id": "GVY-vEDrfrBe"
      },
      "source": [
        "# Training the initial model"
      ]
    },
    {
      "cell_type": "markdown",
      "metadata": {
        "id": "Nn5agOdvf5og"
      },
      "source": [
        "## Model type"
      ]
    },
    {
      "cell_type": "markdown",
      "metadata": {
        "id": "hXTCi03qf_zU"
      },
      "source": [
        "We will use a logistic regression model."
      ]
    },
    {
      "cell_type": "markdown",
      "metadata": {
        "id": "clJaKyx7gGlJ"
      },
      "source": [
        "## Prepare training and test datasets"
      ]
    },
    {
      "cell_type": "markdown",
      "metadata": {
        "id": "2Z7y6xkXgOap"
      },
      "source": [
        " our target variable is outcome(citation, arrest - 1, warning - 0), and our sensitive feature for the purposes of fairness assessment is race(black~white)."
      ]
    },
    {
      "cell_type": "code",
      "execution_count": null,
      "metadata": {
        "id": "XScRBtMYi402"
      },
      "outputs": [],
      "source": [
        "# Disadvantages group A = 1, and privileged group A = 0\n",
        "disadvantaged_group = 'black'\n",
        "privileged_group = 'white'\n",
        "df_durham_old.subject_race = df_durham_old.subject_race.map({disadvantaged_group: 1, privileged_group: 0})"
      ]
    },
    {
      "cell_type": "code",
      "execution_count": null,
      "metadata": {
        "colab": {
          "base_uri": "https://localhost:8080/"
        },
        "id": "HIFLLc3Z0eGy",
        "outputId": "cd364ee9-4349-46d5-80d6-89f10e06b8c3"
      },
      "outputs": [
        {
          "data": {
            "text/plain": [
              "1.0    180851\n",
              "0.0     97415\n",
              "Name: subject_race, dtype: int64"
            ]
          },
          "execution_count": 36,
          "metadata": {},
          "output_type": "execute_result"
        }
      ],
      "source": [
        "df_durham_old.subject_race.value_counts()"
      ]
    },
    {
      "cell_type": "code",
      "execution_count": null,
      "metadata": {
        "colab": {
          "base_uri": "https://localhost:8080/"
        },
        "id": "BlEuVKG80m77",
        "outputId": "efa07470-db53-4f9a-9041-18821d82d1bf"
      },
      "outputs": [
        {
          "data": {
            "text/plain": [
              "array(['warning', 'citation', nan, 'arrest'], dtype=object)"
            ]
          },
          "execution_count": 37,
          "metadata": {},
          "output_type": "execute_result"
        }
      ],
      "source": [
        "df_durham_old.outcome.unique()"
      ]
    },
    {
      "cell_type": "code",
      "execution_count": null,
      "metadata": {
        "id": "pM5U3_boj7oT"
      },
      "outputs": [],
      "source": [
        "fined = ['citation', 'arrest']\n",
        "desired_outcome = 1\n",
        "undesired_outcome = 0\n",
        "df_durham_old['target'] = np.where(df_durham_old.outcome.isin(fined), undesired_outcome, desired_outcome)"
      ]
    },
    {
      "cell_type": "code",
      "execution_count": null,
      "metadata": {
        "colab": {
          "base_uri": "https://localhost:8080/"
        },
        "id": "LCOcscV10uQM",
        "outputId": "12ad48b9-bda4-45ee-f328-5c12bcf3cdfe"
      },
      "outputs": [
        {
          "data": {
            "text/plain": [
              "0    176024\n",
              "1    150000\n",
              "Name: target, dtype: int64"
            ]
          },
          "execution_count": 39,
          "metadata": {},
          "output_type": "execute_result"
        }
      ],
      "source": [
        "df_durham_old['target'].value_counts()"
      ]
    },
    {
      "cell_type": "code",
      "execution_count": null,
      "metadata": {
        "id": "sTYDVYVyg72e"
      },
      "outputs": [],
      "source": [
        "target_variable = \"target\"\n",
        "demographic = [\"subject_race\", \"subject_sex_female\"]\n",
        "sensitive = [\"subject_race\"]"
      ]
    },
    {
      "cell_type": "code",
      "execution_count": null,
      "metadata": {
        "id": "ZZqIdTCLhRaf"
      },
      "outputs": [],
      "source": [
        "Y, A = df_durham_old.loc[:, target_variable], df_durham_old.loc[:, sensitive]"
      ]
    },
    {
      "cell_type": "code",
      "execution_count": null,
      "metadata": {
        "id": "sMddoc-giH0t"
      },
      "outputs": [],
      "source": [
        "dummy_columns = ['county_name', 'subject_race', 'subject_sex',\n",
        "       'department_name', 'search_basis',\n",
        "       'reason_for_stop', 'month', 'day_of_week', 'bin_age',\n",
        "       'holiday', 'year', 'time_of_day', 'contraband_found', 'contraband_drugs', 'contraband_weapons']\n",
        "X = pd.get_dummies(df_durham_old, columns=dummy_columns, drop_first=True)"
      ]
    },
    {
      "cell_type": "code",
      "execution_count": null,
      "metadata": {
        "colab": {
          "base_uri": "https://localhost:8080/",
          "height": 314
        },
        "id": "gXiRNvoZlil8",
        "outputId": "5b9cbd15-4ea0-45db-932f-11c589c6947a"
      },
      "outputs": [
        {
          "data": {
            "text/html": [
              "\n",
              "\n",
              "  <div id=\"df-647bda47-bddb-4e6c-b7d2-3b7b1f60431c\">\n",
              "    <div class=\"colab-df-container\">\n",
              "      <div>\n",
              "<style scoped>\n",
              "    .dataframe tbody tr th:only-of-type {\n",
              "        vertical-align: middle;\n",
              "    }\n",
              "\n",
              "    .dataframe tbody tr th {\n",
              "        vertical-align: top;\n",
              "    }\n",
              "\n",
              "    .dataframe thead th {\n",
              "        text-align: right;\n",
              "    }\n",
              "</style>\n",
              "<table border=\"1\" class=\"dataframe\">\n",
              "  <thead>\n",
              "    <tr style=\"text-align: right;\">\n",
              "      <th></th>\n",
              "      <th>arrest_made</th>\n",
              "      <th>citation_issued</th>\n",
              "      <th>warning_issued</th>\n",
              "      <th>outcome</th>\n",
              "      <th>frisk_performed</th>\n",
              "      <th>search_conducted</th>\n",
              "      <th>search_person</th>\n",
              "      <th>search_vehicle</th>\n",
              "      <th>reason_for_frisk_Other Official Information</th>\n",
              "      <th>reason_for_frisk_Informant Tip</th>\n",
              "      <th>...</th>\n",
              "      <th>time_of_day_9-12</th>\n",
              "      <th>time_of_day_13-16</th>\n",
              "      <th>time_of_day_17-20</th>\n",
              "      <th>time_of_day_21-24</th>\n",
              "      <th>contraband_found_Not-searched</th>\n",
              "      <th>contraband_found_True</th>\n",
              "      <th>contraband_drugs_Not-searched</th>\n",
              "      <th>contraband_drugs_True</th>\n",
              "      <th>contraband_weapons_Not-searched</th>\n",
              "      <th>contraband_weapons_True</th>\n",
              "    </tr>\n",
              "  </thead>\n",
              "  <tbody>\n",
              "    <tr>\n",
              "      <th>0</th>\n",
              "      <td>False</td>\n",
              "      <td>False</td>\n",
              "      <td>True</td>\n",
              "      <td>warning</td>\n",
              "      <td>False</td>\n",
              "      <td>False</td>\n",
              "      <td>False</td>\n",
              "      <td>False</td>\n",
              "      <td>False</td>\n",
              "      <td>False</td>\n",
              "      <td>...</td>\n",
              "      <td>0</td>\n",
              "      <td>0</td>\n",
              "      <td>0</td>\n",
              "      <td>0</td>\n",
              "      <td>1</td>\n",
              "      <td>0</td>\n",
              "      <td>1</td>\n",
              "      <td>0</td>\n",
              "      <td>1</td>\n",
              "      <td>0</td>\n",
              "    </tr>\n",
              "    <tr>\n",
              "      <th>1</th>\n",
              "      <td>False</td>\n",
              "      <td>True</td>\n",
              "      <td>False</td>\n",
              "      <td>citation</td>\n",
              "      <td>False</td>\n",
              "      <td>False</td>\n",
              "      <td>False</td>\n",
              "      <td>False</td>\n",
              "      <td>False</td>\n",
              "      <td>False</td>\n",
              "      <td>...</td>\n",
              "      <td>0</td>\n",
              "      <td>0</td>\n",
              "      <td>0</td>\n",
              "      <td>0</td>\n",
              "      <td>1</td>\n",
              "      <td>0</td>\n",
              "      <td>1</td>\n",
              "      <td>0</td>\n",
              "      <td>1</td>\n",
              "      <td>0</td>\n",
              "    </tr>\n",
              "    <tr>\n",
              "      <th>2</th>\n",
              "      <td>False</td>\n",
              "      <td>False</td>\n",
              "      <td>True</td>\n",
              "      <td>warning</td>\n",
              "      <td>False</td>\n",
              "      <td>False</td>\n",
              "      <td>False</td>\n",
              "      <td>False</td>\n",
              "      <td>False</td>\n",
              "      <td>False</td>\n",
              "      <td>...</td>\n",
              "      <td>0</td>\n",
              "      <td>0</td>\n",
              "      <td>0</td>\n",
              "      <td>0</td>\n",
              "      <td>1</td>\n",
              "      <td>0</td>\n",
              "      <td>1</td>\n",
              "      <td>0</td>\n",
              "      <td>1</td>\n",
              "      <td>0</td>\n",
              "    </tr>\n",
              "    <tr>\n",
              "      <th>3</th>\n",
              "      <td>False</td>\n",
              "      <td>True</td>\n",
              "      <td>False</td>\n",
              "      <td>citation</td>\n",
              "      <td>False</td>\n",
              "      <td>False</td>\n",
              "      <td>False</td>\n",
              "      <td>False</td>\n",
              "      <td>False</td>\n",
              "      <td>False</td>\n",
              "      <td>...</td>\n",
              "      <td>0</td>\n",
              "      <td>0</td>\n",
              "      <td>1</td>\n",
              "      <td>0</td>\n",
              "      <td>1</td>\n",
              "      <td>0</td>\n",
              "      <td>1</td>\n",
              "      <td>0</td>\n",
              "      <td>1</td>\n",
              "      <td>0</td>\n",
              "    </tr>\n",
              "    <tr>\n",
              "      <th>4</th>\n",
              "      <td>False</td>\n",
              "      <td>False</td>\n",
              "      <td>True</td>\n",
              "      <td>warning</td>\n",
              "      <td>False</td>\n",
              "      <td>False</td>\n",
              "      <td>False</td>\n",
              "      <td>False</td>\n",
              "      <td>False</td>\n",
              "      <td>False</td>\n",
              "      <td>...</td>\n",
              "      <td>0</td>\n",
              "      <td>0</td>\n",
              "      <td>1</td>\n",
              "      <td>0</td>\n",
              "      <td>1</td>\n",
              "      <td>0</td>\n",
              "      <td>1</td>\n",
              "      <td>0</td>\n",
              "      <td>1</td>\n",
              "      <td>0</td>\n",
              "    </tr>\n",
              "  </tbody>\n",
              "</table>\n",
              "<p>5 rows × 108 columns</p>\n",
              "</div>\n",
              "      <button class=\"colab-df-convert\" onclick=\"convertToInteractive('df-647bda47-bddb-4e6c-b7d2-3b7b1f60431c')\"\n",
              "              title=\"Convert this dataframe to an interactive table.\"\n",
              "              style=\"display:none;\">\n",
              "\n",
              "  <svg xmlns=\"http://www.w3.org/2000/svg\" height=\"24px\"viewBox=\"0 0 24 24\"\n",
              "       width=\"24px\">\n",
              "    <path d=\"M0 0h24v24H0V0z\" fill=\"none\"/>\n",
              "    <path d=\"M18.56 5.44l.94 2.06.94-2.06 2.06-.94-2.06-.94-.94-2.06-.94 2.06-2.06.94zm-11 1L8.5 8.5l.94-2.06 2.06-.94-2.06-.94L8.5 2.5l-.94 2.06-2.06.94zm10 10l.94 2.06.94-2.06 2.06-.94-2.06-.94-.94-2.06-.94 2.06-2.06.94z\"/><path d=\"M17.41 7.96l-1.37-1.37c-.4-.4-.92-.59-1.43-.59-.52 0-1.04.2-1.43.59L10.3 9.45l-7.72 7.72c-.78.78-.78 2.05 0 2.83L4 21.41c.39.39.9.59 1.41.59.51 0 1.02-.2 1.41-.59l7.78-7.78 2.81-2.81c.8-.78.8-2.07 0-2.86zM5.41 20L4 18.59l7.72-7.72 1.47 1.35L5.41 20z\"/>\n",
              "  </svg>\n",
              "      </button>\n",
              "\n",
              "\n",
              "\n",
              "    <div id=\"df-ffcd2676-5b44-4a49-bba1-3566231fc345\">\n",
              "      <button class=\"colab-df-quickchart\" onclick=\"quickchart('df-ffcd2676-5b44-4a49-bba1-3566231fc345')\"\n",
              "              title=\"Suggest charts.\"\n",
              "              style=\"display:none;\">\n",
              "\n",
              "<svg xmlns=\"http://www.w3.org/2000/svg\" height=\"24px\"viewBox=\"0 0 24 24\"\n",
              "     width=\"24px\">\n",
              "    <g>\n",
              "        <path d=\"M19 3H5c-1.1 0-2 .9-2 2v14c0 1.1.9 2 2 2h14c1.1 0 2-.9 2-2V5c0-1.1-.9-2-2-2zM9 17H7v-7h2v7zm4 0h-2V7h2v10zm4 0h-2v-4h2v4z\"/>\n",
              "    </g>\n",
              "</svg>\n",
              "      </button>\n",
              "    </div>\n",
              "\n",
              "<style>\n",
              "  .colab-df-quickchart {\n",
              "    background-color: #E8F0FE;\n",
              "    border: none;\n",
              "    border-radius: 50%;\n",
              "    cursor: pointer;\n",
              "    display: none;\n",
              "    fill: #1967D2;\n",
              "    height: 32px;\n",
              "    padding: 0 0 0 0;\n",
              "    width: 32px;\n",
              "  }\n",
              "\n",
              "  .colab-df-quickchart:hover {\n",
              "    background-color: #E2EBFA;\n",
              "    box-shadow: 0px 1px 2px rgba(60, 64, 67, 0.3), 0px 1px 3px 1px rgba(60, 64, 67, 0.15);\n",
              "    fill: #174EA6;\n",
              "  }\n",
              "\n",
              "  [theme=dark] .colab-df-quickchart {\n",
              "    background-color: #3B4455;\n",
              "    fill: #D2E3FC;\n",
              "  }\n",
              "\n",
              "  [theme=dark] .colab-df-quickchart:hover {\n",
              "    background-color: #434B5C;\n",
              "    box-shadow: 0px 1px 3px 1px rgba(0, 0, 0, 0.15);\n",
              "    filter: drop-shadow(0px 1px 2px rgba(0, 0, 0, 0.3));\n",
              "    fill: #FFFFFF;\n",
              "  }\n",
              "</style>\n",
              "\n",
              "    <script>\n",
              "      async function quickchart(key) {\n",
              "        const containerElement = document.querySelector('#' + key);\n",
              "        const charts = await google.colab.kernel.invokeFunction(\n",
              "            'suggestCharts', [key], {});\n",
              "      }\n",
              "    </script>\n",
              "\n",
              "      <script>\n",
              "\n",
              "function displayQuickchartButton(domScope) {\n",
              "  let quickchartButtonEl =\n",
              "    domScope.querySelector('#df-ffcd2676-5b44-4a49-bba1-3566231fc345 button.colab-df-quickchart');\n",
              "  quickchartButtonEl.style.display =\n",
              "    google.colab.kernel.accessAllowed ? 'block' : 'none';\n",
              "}\n",
              "\n",
              "        displayQuickchartButton(document);\n",
              "      </script>\n",
              "      <style>\n",
              "    .colab-df-container {\n",
              "      display:flex;\n",
              "      flex-wrap:wrap;\n",
              "      gap: 12px;\n",
              "    }\n",
              "\n",
              "    .colab-df-convert {\n",
              "      background-color: #E8F0FE;\n",
              "      border: none;\n",
              "      border-radius: 50%;\n",
              "      cursor: pointer;\n",
              "      display: none;\n",
              "      fill: #1967D2;\n",
              "      height: 32px;\n",
              "      padding: 0 0 0 0;\n",
              "      width: 32px;\n",
              "    }\n",
              "\n",
              "    .colab-df-convert:hover {\n",
              "      background-color: #E2EBFA;\n",
              "      box-shadow: 0px 1px 2px rgba(60, 64, 67, 0.3), 0px 1px 3px 1px rgba(60, 64, 67, 0.15);\n",
              "      fill: #174EA6;\n",
              "    }\n",
              "\n",
              "    [theme=dark] .colab-df-convert {\n",
              "      background-color: #3B4455;\n",
              "      fill: #D2E3FC;\n",
              "    }\n",
              "\n",
              "    [theme=dark] .colab-df-convert:hover {\n",
              "      background-color: #434B5C;\n",
              "      box-shadow: 0px 1px 3px 1px rgba(0, 0, 0, 0.15);\n",
              "      filter: drop-shadow(0px 1px 2px rgba(0, 0, 0, 0.3));\n",
              "      fill: #FFFFFF;\n",
              "    }\n",
              "  </style>\n",
              "\n",
              "      <script>\n",
              "        const buttonEl =\n",
              "          document.querySelector('#df-647bda47-bddb-4e6c-b7d2-3b7b1f60431c button.colab-df-convert');\n",
              "        buttonEl.style.display =\n",
              "          google.colab.kernel.accessAllowed ? 'block' : 'none';\n",
              "\n",
              "        async function convertToInteractive(key) {\n",
              "          const element = document.querySelector('#df-647bda47-bddb-4e6c-b7d2-3b7b1f60431c');\n",
              "          const dataTable =\n",
              "            await google.colab.kernel.invokeFunction('convertToInteractive',\n",
              "                                                     [key], {});\n",
              "          if (!dataTable) return;\n",
              "\n",
              "          const docLinkHtml = 'Like what you see? Visit the ' +\n",
              "            '<a target=\"_blank\" href=https://colab.research.google.com/notebooks/data_table.ipynb>data table notebook</a>'\n",
              "            + ' to learn more about interactive tables.';\n",
              "          element.innerHTML = '';\n",
              "          dataTable['output_type'] = 'display_data';\n",
              "          await google.colab.output.renderOutput(dataTable, element);\n",
              "          const docLink = document.createElement('div');\n",
              "          docLink.innerHTML = docLinkHtml;\n",
              "          element.appendChild(docLink);\n",
              "        }\n",
              "      </script>\n",
              "    </div>\n",
              "  </div>\n"
            ],
            "text/plain": [
              "   arrest_made  citation_issued  warning_issued   outcome  frisk_performed  \\\n",
              "0        False            False            True   warning            False   \n",
              "1        False             True           False  citation            False   \n",
              "2        False            False            True   warning            False   \n",
              "3        False             True           False  citation            False   \n",
              "4        False            False            True   warning            False   \n",
              "\n",
              "   search_conducted  search_person  search_vehicle  \\\n",
              "0             False          False           False   \n",
              "1             False          False           False   \n",
              "2             False          False           False   \n",
              "3             False          False           False   \n",
              "4             False          False           False   \n",
              "\n",
              "   reason_for_frisk_Other Official Information  \\\n",
              "0                                        False   \n",
              "1                                        False   \n",
              "2                                        False   \n",
              "3                                        False   \n",
              "4                                        False   \n",
              "\n",
              "   reason_for_frisk_Informant Tip  ...  time_of_day_9-12  time_of_day_13-16  \\\n",
              "0                           False  ...                 0                  0   \n",
              "1                           False  ...                 0                  0   \n",
              "2                           False  ...                 0                  0   \n",
              "3                           False  ...                 0                  0   \n",
              "4                           False  ...                 0                  0   \n",
              "\n",
              "   time_of_day_17-20  time_of_day_21-24  contraband_found_Not-searched  \\\n",
              "0                  0                  0                              1   \n",
              "1                  0                  0                              1   \n",
              "2                  0                  0                              1   \n",
              "3                  1                  0                              1   \n",
              "4                  1                  0                              1   \n",
              "\n",
              "   contraband_found_True  contraband_drugs_Not-searched  \\\n",
              "0                      0                              1   \n",
              "1                      0                              1   \n",
              "2                      0                              1   \n",
              "3                      0                              1   \n",
              "4                      0                              1   \n",
              "\n",
              "   contraband_drugs_True  contraband_weapons_Not-searched  \\\n",
              "0                      0                                1   \n",
              "1                      0                                1   \n",
              "2                      0                                1   \n",
              "3                      0                                1   \n",
              "4                      0                                1   \n",
              "\n",
              "   contraband_weapons_True  \n",
              "0                        0  \n",
              "1                        0  \n",
              "2                        0  \n",
              "3                        0  \n",
              "4                        0  \n",
              "\n",
              "[5 rows x 108 columns]"
            ]
          },
          "execution_count": 43,
          "metadata": {},
          "output_type": "execute_result"
        }
      ],
      "source": [
        "X.head()"
      ]
    },
    {
      "cell_type": "code",
      "execution_count": null,
      "metadata": {
        "id": "RI4Hez3aw7DK"
      },
      "outputs": [],
      "source": [
        "outcome_columns = ['outcome', 'arrest_made', 'citation_issued', 'warning_issued', 'target']\n",
        "\n",
        "X.drop(columns=outcome_columns, inplace=True, errors='ignore')"
      ]
    },
    {
      "cell_type": "code",
      "execution_count": null,
      "metadata": {
        "id": "iPixEfyRWRD_"
      },
      "outputs": [],
      "source": [
        "speeding = X['reason_for_stop_Speed Limit Violation'] == True\n",
        "X_speed = X[speeding]\n",
        "Y_speed = Y[speeding]\n",
        "df_durham_old_speed = df_durham_old[speeding]\n",
        "A_speed = A[speeding]"
      ]
    },
    {
      "cell_type": "code",
      "execution_count": null,
      "metadata": {
        "colab": {
          "base_uri": "https://localhost:8080/"
        },
        "id": "Mbjzh3oHWTYJ",
        "outputId": "616d769c-716d-4c55-c6ab-6acf49716bba"
      },
      "outputs": [
        {
          "data": {
            "text/plain": [
              "(326024,)"
            ]
          },
          "execution_count": 46,
          "metadata": {},
          "output_type": "execute_result"
        }
      ],
      "source": [
        "Y.shape"
      ]
    },
    {
      "cell_type": "code",
      "execution_count": null,
      "metadata": {
        "colab": {
          "base_uri": "https://localhost:8080/"
        },
        "id": "JbOascWnXsyN",
        "outputId": "a794b7d3-d978-4baf-e976-2cc2de692c08"
      },
      "outputs": [
        {
          "data": {
            "text/plain": [
              "(326024, 1)"
            ]
          },
          "execution_count": 47,
          "metadata": {},
          "output_type": "execute_result"
        }
      ],
      "source": [
        "A.shape"
      ]
    },
    {
      "cell_type": "code",
      "execution_count": null,
      "metadata": {
        "colab": {
          "base_uri": "https://localhost:8080/"
        },
        "id": "Ai_l7KfjWVqQ",
        "outputId": "72c09e74-f5e1-4657-ba1f-a4374140ab2b"
      },
      "outputs": [
        {
          "data": {
            "text/plain": [
              "(326024, 37)"
            ]
          },
          "execution_count": 48,
          "metadata": {},
          "output_type": "execute_result"
        }
      ],
      "source": [
        "df_durham_old.shape"
      ]
    },
    {
      "cell_type": "markdown",
      "metadata": {
        "id": "9cE4epdhl2DY"
      },
      "source": [
        "We split our data into a training and test portion."
      ]
    },
    {
      "cell_type": "code",
      "execution_count": null,
      "metadata": {
        "id": "dEwHExyKiRUC"
      },
      "outputs": [],
      "source": [
        "random_seed = 445\n",
        "np.random.seed(random_seed)\n",
        "\n",
        "X_train, X_test, Y_train, Y_test, A_train, A_test, df_train, df_test = train_test_split(\n",
        "    X,\n",
        "    Y,\n",
        "    A,\n",
        "    df_durham_old,\n",
        "    test_size=0.30,\n",
        "    stratify=Y,\n",
        "    random_state=random_seed\n",
        ")"
      ]
    },
    {
      "cell_type": "code",
      "execution_count": null,
      "metadata": {
        "id": "k-8Vy6jqIqIn"
      },
      "outputs": [],
      "source": [
        "def resample_dataset(X_train, Y_train, A_train):\n",
        "\n",
        "  negative_ids = Y_train[Y_train == 0].index\n",
        "  positive_ids = Y_train[Y_train == 1].index\n",
        "  balanced_ids = positive_ids.union(np.random.choice(a=negative_ids, size=len(positive_ids)))\n",
        "\n",
        "  X_train = X_train.loc[balanced_ids, :]\n",
        "  Y_train = Y_train.loc[balanced_ids]\n",
        "  A_train = A_train.loc[balanced_ids, :]\n",
        "  return X_train, Y_train, A_train"
      ]
    },
    {
      "cell_type": "code",
      "execution_count": null,
      "metadata": {
        "id": "NVsAH07aIybm"
      },
      "outputs": [],
      "source": [
        "X_train_bal, Y_train_bal, A_train_bal = resample_dataset(X_train, Y_train, A_train)"
      ]
    },
    {
      "cell_type": "markdown",
      "metadata": {
        "id": "aDeo4_T62DqY"
      },
      "source": []
    },
    {
      "cell_type": "markdown",
      "metadata": {
        "id": "B8Pqo_vS2DmM"
      },
      "source": []
    },
    {
      "cell_type": "markdown",
      "metadata": {
        "id": "RBs9xyrJsvgV"
      },
      "source": [
        "## Train the model"
      ]
    },
    {
      "cell_type": "markdown",
      "metadata": {
        "id": "XhFP38PqtCs8"
      },
      "source": [
        "We train a logistic regression model"
      ]
    },
    {
      "cell_type": "code",
      "execution_count": null,
      "metadata": {
        "id": "HJjIjQRtgJUu"
      },
      "outputs": [],
      "source": [
        "unmitigated_pipeline = Pipeline(steps=[\n",
        "    (\"imputer\", SimpleImputer(missing_values=np.nan, strategy='constant', fill_value=0)),\n",
        "    (\"logistic_regression\", LogisticRegression(max_iter=1000))\n",
        "])"
      ]
    },
    {
      "cell_type": "code",
      "execution_count": null,
      "metadata": {
        "colab": {
          "base_uri": "https://localhost:8080/",
          "height": 124
        },
        "id": "C73DJpAMtZWC",
        "outputId": "8b2466d6-ec22-4491-e30b-88529d5e9a42"
      },
      "outputs": [
        {
          "data": {
            "text/html": [
              "<style>#sk-container-id-1 {color: black;background-color: white;}#sk-container-id-1 pre{padding: 0;}#sk-container-id-1 div.sk-toggleable {background-color: white;}#sk-container-id-1 label.sk-toggleable__label {cursor: pointer;display: block;width: 100%;margin-bottom: 0;padding: 0.3em;box-sizing: border-box;text-align: center;}#sk-container-id-1 label.sk-toggleable__label-arrow:before {content: \"▸\";float: left;margin-right: 0.25em;color: #696969;}#sk-container-id-1 label.sk-toggleable__label-arrow:hover:before {color: black;}#sk-container-id-1 div.sk-estimator:hover label.sk-toggleable__label-arrow:before {color: black;}#sk-container-id-1 div.sk-toggleable__content {max-height: 0;max-width: 0;overflow: hidden;text-align: left;background-color: #f0f8ff;}#sk-container-id-1 div.sk-toggleable__content pre {margin: 0.2em;color: black;border-radius: 0.25em;background-color: #f0f8ff;}#sk-container-id-1 input.sk-toggleable__control:checked~div.sk-toggleable__content {max-height: 200px;max-width: 100%;overflow: auto;}#sk-container-id-1 input.sk-toggleable__control:checked~label.sk-toggleable__label-arrow:before {content: \"▾\";}#sk-container-id-1 div.sk-estimator input.sk-toggleable__control:checked~label.sk-toggleable__label {background-color: #d4ebff;}#sk-container-id-1 div.sk-label input.sk-toggleable__control:checked~label.sk-toggleable__label {background-color: #d4ebff;}#sk-container-id-1 input.sk-hidden--visually {border: 0;clip: rect(1px 1px 1px 1px);clip: rect(1px, 1px, 1px, 1px);height: 1px;margin: -1px;overflow: hidden;padding: 0;position: absolute;width: 1px;}#sk-container-id-1 div.sk-estimator {font-family: monospace;background-color: #f0f8ff;border: 1px dotted black;border-radius: 0.25em;box-sizing: border-box;margin-bottom: 0.5em;}#sk-container-id-1 div.sk-estimator:hover {background-color: #d4ebff;}#sk-container-id-1 div.sk-parallel-item::after {content: \"\";width: 100%;border-bottom: 1px solid gray;flex-grow: 1;}#sk-container-id-1 div.sk-label:hover label.sk-toggleable__label {background-color: #d4ebff;}#sk-container-id-1 div.sk-serial::before {content: \"\";position: absolute;border-left: 1px solid gray;box-sizing: border-box;top: 0;bottom: 0;left: 50%;z-index: 0;}#sk-container-id-1 div.sk-serial {display: flex;flex-direction: column;align-items: center;background-color: white;padding-right: 0.2em;padding-left: 0.2em;position: relative;}#sk-container-id-1 div.sk-item {position: relative;z-index: 1;}#sk-container-id-1 div.sk-parallel {display: flex;align-items: stretch;justify-content: center;background-color: white;position: relative;}#sk-container-id-1 div.sk-item::before, #sk-container-id-1 div.sk-parallel-item::before {content: \"\";position: absolute;border-left: 1px solid gray;box-sizing: border-box;top: 0;bottom: 0;left: 50%;z-index: -1;}#sk-container-id-1 div.sk-parallel-item {display: flex;flex-direction: column;z-index: 1;position: relative;background-color: white;}#sk-container-id-1 div.sk-parallel-item:first-child::after {align-self: flex-end;width: 50%;}#sk-container-id-1 div.sk-parallel-item:last-child::after {align-self: flex-start;width: 50%;}#sk-container-id-1 div.sk-parallel-item:only-child::after {width: 0;}#sk-container-id-1 div.sk-dashed-wrapped {border: 1px dashed gray;margin: 0 0.4em 0.5em 0.4em;box-sizing: border-box;padding-bottom: 0.4em;background-color: white;}#sk-container-id-1 div.sk-label label {font-family: monospace;font-weight: bold;display: inline-block;line-height: 1.2em;}#sk-container-id-1 div.sk-label-container {text-align: center;}#sk-container-id-1 div.sk-container {/* jupyter's `normalize.less` sets `[hidden] { display: none; }` but bootstrap.min.css set `[hidden] { display: none !important; }` so we also need the `!important` here to be able to override the default hidden behavior on the sphinx rendered scikit-learn.org. See: https://github.com/scikit-learn/scikit-learn/issues/21755 */display: inline-block !important;position: relative;}#sk-container-id-1 div.sk-text-repr-fallback {display: none;}</style><div id=\"sk-container-id-1\" class=\"sk-top-container\"><div class=\"sk-text-repr-fallback\"><pre>Pipeline(steps=[(&#x27;imputer&#x27;, SimpleImputer(fill_value=0, strategy=&#x27;constant&#x27;)),\n",
              "                (&#x27;logistic_regression&#x27;, LogisticRegression(max_iter=1000))])</pre><b>In a Jupyter environment, please rerun this cell to show the HTML representation or trust the notebook. <br />On GitHub, the HTML representation is unable to render, please try loading this page with nbviewer.org.</b></div><div class=\"sk-container\" hidden><div class=\"sk-item sk-dashed-wrapped\"><div class=\"sk-label-container\"><div class=\"sk-label sk-toggleable\"><input class=\"sk-toggleable__control sk-hidden--visually\" id=\"sk-estimator-id-1\" type=\"checkbox\" ><label for=\"sk-estimator-id-1\" class=\"sk-toggleable__label sk-toggleable__label-arrow\">Pipeline</label><div class=\"sk-toggleable__content\"><pre>Pipeline(steps=[(&#x27;imputer&#x27;, SimpleImputer(fill_value=0, strategy=&#x27;constant&#x27;)),\n",
              "                (&#x27;logistic_regression&#x27;, LogisticRegression(max_iter=1000))])</pre></div></div></div><div class=\"sk-serial\"><div class=\"sk-item\"><div class=\"sk-estimator sk-toggleable\"><input class=\"sk-toggleable__control sk-hidden--visually\" id=\"sk-estimator-id-2\" type=\"checkbox\" ><label for=\"sk-estimator-id-2\" class=\"sk-toggleable__label sk-toggleable__label-arrow\">SimpleImputer</label><div class=\"sk-toggleable__content\"><pre>SimpleImputer(fill_value=0, strategy=&#x27;constant&#x27;)</pre></div></div></div><div class=\"sk-item\"><div class=\"sk-estimator sk-toggleable\"><input class=\"sk-toggleable__control sk-hidden--visually\" id=\"sk-estimator-id-3\" type=\"checkbox\" ><label for=\"sk-estimator-id-3\" class=\"sk-toggleable__label sk-toggleable__label-arrow\">LogisticRegression</label><div class=\"sk-toggleable__content\"><pre>LogisticRegression(max_iter=1000)</pre></div></div></div></div></div></div></div>"
            ],
            "text/plain": [
              "Pipeline(steps=[('imputer', SimpleImputer(fill_value=0, strategy='constant')),\n",
              "                ('logistic_regression', LogisticRegression(max_iter=1000))])"
            ]
          },
          "execution_count": 53,
          "metadata": {},
          "output_type": "execute_result"
        }
      ],
      "source": [
        "unmitigated_pipeline.fit(X_train, Y_train)"
      ]
    },
    {
      "cell_type": "code",
      "execution_count": null,
      "metadata": {
        "id": "YxhYdpePtfnU"
      },
      "outputs": [],
      "source": [
        "Y_pred_proba = unmitigated_pipeline.predict_proba(X_test)[:,1]\n",
        "Y_pred = unmitigated_pipeline.predict(X_test)"
      ]
    },
    {
      "cell_type": "code",
      "execution_count": null,
      "metadata": {
        "colab": {
          "base_uri": "https://localhost:8080/",
          "height": 449
        },
        "id": "Va-eAERRvyow",
        "outputId": "8ac590f2-f4d4-4210-b5b4-8ed37eb7a0ff"
      },
      "outputs": [
        {
          "data": {
            "image/png": "[encoded data removed]",
            "text/plain": [
              "<Figure size 640x480 with 1 Axes>"
            ]
          },
          "metadata": {},
          "output_type": "display_data"
        }
      ],
      "source": [
        "RocCurveDisplay.from_estimator(unmitigated_pipeline, X_test, Y_test);"
      ]
    },
    {
      "cell_type": "code",
      "execution_count": null,
      "metadata": {
        "id": "TTmyRVI9TCGs"
      },
      "outputs": [],
      "source": [
        "#\n",
        "saga_log_reg = LogisticRegression(max_iter=5000, solver='saga')\n",
        "steps = [\n",
        "    (\"imputer\", SimpleImputer(missing_values=np.nan, strategy='constant', fill_value=0)),\n",
        "    (\"preprocessing\", StandardScaler()),\n",
        "    (\"logistic_regression\", saga_log_reg)]\n",
        "reg_pipeline = Pipeline(steps)\n",
        "\n"
      ]
    },
    {
      "cell_type": "code",
      "execution_count": null,
      "metadata": {
        "colab": {
          "base_uri": "https://localhost:8080/",
          "height": 159
        },
        "id": "-nVw259v2ard",
        "outputId": "56ec3954-59c8-4643-ad36-3228dcd65f7d"
      },
      "outputs": [
        {
          "data": {
            "text/html": [
              "<style>#sk-container-id-2 {color: black;background-color: white;}#sk-container-id-2 pre{padding: 0;}#sk-container-id-2 div.sk-toggleable {background-color: white;}#sk-container-id-2 label.sk-toggleable__label {cursor: pointer;display: block;width: 100%;margin-bottom: 0;padding: 0.3em;box-sizing: border-box;text-align: center;}#sk-container-id-2 label.sk-toggleable__label-arrow:before {content: \"▸\";float: left;margin-right: 0.25em;color: #696969;}#sk-container-id-2 label.sk-toggleable__label-arrow:hover:before {color: black;}#sk-container-id-2 div.sk-estimator:hover label.sk-toggleable__label-arrow:before {color: black;}#sk-container-id-2 div.sk-toggleable__content {max-height: 0;max-width: 0;overflow: hidden;text-align: left;background-color: #f0f8ff;}#sk-container-id-2 div.sk-toggleable__content pre {margin: 0.2em;color: black;border-radius: 0.25em;background-color: #f0f8ff;}#sk-container-id-2 input.sk-toggleable__control:checked~div.sk-toggleable__content {max-height: 200px;max-width: 100%;overflow: auto;}#sk-container-id-2 input.sk-toggleable__control:checked~label.sk-toggleable__label-arrow:before {content: \"▾\";}#sk-container-id-2 div.sk-estimator input.sk-toggleable__control:checked~label.sk-toggleable__label {background-color: #d4ebff;}#sk-container-id-2 div.sk-label input.sk-toggleable__control:checked~label.sk-toggleable__label {background-color: #d4ebff;}#sk-container-id-2 input.sk-hidden--visually {border: 0;clip: rect(1px 1px 1px 1px);clip: rect(1px, 1px, 1px, 1px);height: 1px;margin: -1px;overflow: hidden;padding: 0;position: absolute;width: 1px;}#sk-container-id-2 div.sk-estimator {font-family: monospace;background-color: #f0f8ff;border: 1px dotted black;border-radius: 0.25em;box-sizing: border-box;margin-bottom: 0.5em;}#sk-container-id-2 div.sk-estimator:hover {background-color: #d4ebff;}#sk-container-id-2 div.sk-parallel-item::after {content: \"\";width: 100%;border-bottom: 1px solid gray;flex-grow: 1;}#sk-container-id-2 div.sk-label:hover label.sk-toggleable__label {background-color: #d4ebff;}#sk-container-id-2 div.sk-serial::before {content: \"\";position: absolute;border-left: 1px solid gray;box-sizing: border-box;top: 0;bottom: 0;left: 50%;z-index: 0;}#sk-container-id-2 div.sk-serial {display: flex;flex-direction: column;align-items: center;background-color: white;padding-right: 0.2em;padding-left: 0.2em;position: relative;}#sk-container-id-2 div.sk-item {position: relative;z-index: 1;}#sk-container-id-2 div.sk-parallel {display: flex;align-items: stretch;justify-content: center;background-color: white;position: relative;}#sk-container-id-2 div.sk-item::before, #sk-container-id-2 div.sk-parallel-item::before {content: \"\";position: absolute;border-left: 1px solid gray;box-sizing: border-box;top: 0;bottom: 0;left: 50%;z-index: -1;}#sk-container-id-2 div.sk-parallel-item {display: flex;flex-direction: column;z-index: 1;position: relative;background-color: white;}#sk-container-id-2 div.sk-parallel-item:first-child::after {align-self: flex-end;width: 50%;}#sk-container-id-2 div.sk-parallel-item:last-child::after {align-self: flex-start;width: 50%;}#sk-container-id-2 div.sk-parallel-item:only-child::after {width: 0;}#sk-container-id-2 div.sk-dashed-wrapped {border: 1px dashed gray;margin: 0 0.4em 0.5em 0.4em;box-sizing: border-box;padding-bottom: 0.4em;background-color: white;}#sk-container-id-2 div.sk-label label {font-family: monospace;font-weight: bold;display: inline-block;line-height: 1.2em;}#sk-container-id-2 div.sk-label-container {text-align: center;}#sk-container-id-2 div.sk-container {/* jupyter's `normalize.less` sets `[hidden] { display: none; }` but bootstrap.min.css set `[hidden] { display: none !important; }` so we also need the `!important` here to be able to override the default hidden behavior on the sphinx rendered scikit-learn.org. See: https://github.com/scikit-learn/scikit-learn/issues/21755 */display: inline-block !important;position: relative;}#sk-container-id-2 div.sk-text-repr-fallback {display: none;}</style><div id=\"sk-container-id-2\" class=\"sk-top-container\"><div class=\"sk-text-repr-fallback\"><pre>Pipeline(steps=[(&#x27;imputer&#x27;, SimpleImputer(fill_value=0, strategy=&#x27;constant&#x27;)),\n",
              "                (&#x27;preprocessing&#x27;, StandardScaler()),\n",
              "                (&#x27;logistic_regression&#x27;,\n",
              "                 LogisticRegression(max_iter=5000, solver=&#x27;saga&#x27;))])</pre><b>In a Jupyter environment, please rerun this cell to show the HTML representation or trust the notebook. <br />On GitHub, the HTML representation is unable to render, please try loading this page with nbviewer.org.</b></div><div class=\"sk-container\" hidden><div class=\"sk-item sk-dashed-wrapped\"><div class=\"sk-label-container\"><div class=\"sk-label sk-toggleable\"><input class=\"sk-toggleable__control sk-hidden--visually\" id=\"sk-estimator-id-4\" type=\"checkbox\" ><label for=\"sk-estimator-id-4\" class=\"sk-toggleable__label sk-toggleable__label-arrow\">Pipeline</label><div class=\"sk-toggleable__content\"><pre>Pipeline(steps=[(&#x27;imputer&#x27;, SimpleImputer(fill_value=0, strategy=&#x27;constant&#x27;)),\n",
              "                (&#x27;preprocessing&#x27;, StandardScaler()),\n",
              "                (&#x27;logistic_regression&#x27;,\n",
              "                 LogisticRegression(max_iter=5000, solver=&#x27;saga&#x27;))])</pre></div></div></div><div class=\"sk-serial\"><div class=\"sk-item\"><div class=\"sk-estimator sk-toggleable\"><input class=\"sk-toggleable__control sk-hidden--visually\" id=\"sk-estimator-id-5\" type=\"checkbox\" ><label for=\"sk-estimator-id-5\" class=\"sk-toggleable__label sk-toggleable__label-arrow\">SimpleImputer</label><div class=\"sk-toggleable__content\"><pre>SimpleImputer(fill_value=0, strategy=&#x27;constant&#x27;)</pre></div></div></div><div class=\"sk-item\"><div class=\"sk-estimator sk-toggleable\"><input class=\"sk-toggleable__control sk-hidden--visually\" id=\"sk-estimator-id-6\" type=\"checkbox\" ><label for=\"sk-estimator-id-6\" class=\"sk-toggleable__label sk-toggleable__label-arrow\">StandardScaler</label><div class=\"sk-toggleable__content\"><pre>StandardScaler()</pre></div></div></div><div class=\"sk-item\"><div class=\"sk-estimator sk-toggleable\"><input class=\"sk-toggleable__control sk-hidden--visually\" id=\"sk-estimator-id-7\" type=\"checkbox\" ><label for=\"sk-estimator-id-7\" class=\"sk-toggleable__label sk-toggleable__label-arrow\">LogisticRegression</label><div class=\"sk-toggleable__content\"><pre>LogisticRegression(max_iter=5000, solver=&#x27;saga&#x27;)</pre></div></div></div></div></div></div></div>"
            ],
            "text/plain": [
              "Pipeline(steps=[('imputer', SimpleImputer(fill_value=0, strategy='constant')),\n",
              "                ('preprocessing', StandardScaler()),\n",
              "                ('logistic_regression',\n",
              "                 LogisticRegression(max_iter=5000, solver='saga'))])"
            ]
          },
          "execution_count": 57,
          "metadata": {},
          "output_type": "execute_result"
        }
      ],
      "source": [
        "reg_pipeline.fit(X_train, Y_train)"
      ]
    },
    {
      "cell_type": "code",
      "execution_count": null,
      "metadata": {
        "id": "Z-HFupHg33Ek"
      },
      "outputs": [],
      "source": [
        "Y_pred_proba = reg_pipeline.predict_proba(X_test)[:,1]\n",
        "Y_pred = reg_pipeline.predict(X_test)"
      ]
    },
    {
      "cell_type": "markdown",
      "metadata": {
        "id": "L5o3l1kMvuBo"
      },
      "source": [
        "Check model performance on test data."
      ]
    },
    {
      "cell_type": "code",
      "execution_count": null,
      "metadata": {
        "colab": {
          "base_uri": "https://localhost:8080/"
        },
        "id": "zuLZqo9Dwpbh",
        "outputId": "2568b6aa-769b-4c4c-a10f-cb01db393f3b"
      },
      "outputs": [
        {
          "data": {
            "text/plain": [
              "0.6499158242017202"
            ]
          },
          "execution_count": 59,
          "metadata": {},
          "output_type": "execute_result"
        }
      ],
      "source": [
        "balanced_accuracy_score(Y_test, Y_pred)"
      ]
    },
    {
      "cell_type": "code",
      "execution_count": null,
      "metadata": {
        "colab": {
          "base_uri": "https://localhost:8080/",
          "height": 419
        },
        "id": "K6NT5zd-_jR9",
        "outputId": "689a56cf-27e9-4627-d185-9228c4329116"
      },
      "outputs": [
        {
          "data": {
            "text/html": [
              "\n",
              "\n",
              "  <div id=\"df-b36534cf-b636-4403-87b3-a7ddfaf30cea\">\n",
              "    <div class=\"colab-df-container\">\n",
              "      <div>\n",
              "<style scoped>\n",
              "    .dataframe tbody tr th:only-of-type {\n",
              "        vertical-align: middle;\n",
              "    }\n",
              "\n",
              "    .dataframe tbody tr th {\n",
              "        vertical-align: top;\n",
              "    }\n",
              "\n",
              "    .dataframe thead th {\n",
              "        text-align: right;\n",
              "    }\n",
              "</style>\n",
              "<table border=\"1\" class=\"dataframe\">\n",
              "  <thead>\n",
              "    <tr style=\"text-align: right;\">\n",
              "      <th></th>\n",
              "      <th>144288</th>\n",
              "      <th>220260</th>\n",
              "      <th>13941</th>\n",
              "      <th>244917</th>\n",
              "      <th>302014</th>\n",
              "    </tr>\n",
              "  </thead>\n",
              "  <tbody>\n",
              "    <tr>\n",
              "      <th>frisk_performed</th>\n",
              "      <td>False</td>\n",
              "      <td>False</td>\n",
              "      <td>False</td>\n",
              "      <td>False</td>\n",
              "      <td>False</td>\n",
              "    </tr>\n",
              "    <tr>\n",
              "      <th>search_conducted</th>\n",
              "      <td>False</td>\n",
              "      <td>False</td>\n",
              "      <td>False</td>\n",
              "      <td>False</td>\n",
              "      <td>False</td>\n",
              "    </tr>\n",
              "    <tr>\n",
              "      <th>search_person</th>\n",
              "      <td>False</td>\n",
              "      <td>False</td>\n",
              "      <td>False</td>\n",
              "      <td>False</td>\n",
              "      <td>False</td>\n",
              "    </tr>\n",
              "    <tr>\n",
              "      <th>search_vehicle</th>\n",
              "      <td>False</td>\n",
              "      <td>False</td>\n",
              "      <td>False</td>\n",
              "      <td>False</td>\n",
              "      <td>False</td>\n",
              "    </tr>\n",
              "    <tr>\n",
              "      <th>reason_for_frisk_Other Official Information</th>\n",
              "      <td>False</td>\n",
              "      <td>False</td>\n",
              "      <td>False</td>\n",
              "      <td>False</td>\n",
              "      <td>False</td>\n",
              "    </tr>\n",
              "    <tr>\n",
              "      <th>...</th>\n",
              "      <td>...</td>\n",
              "      <td>...</td>\n",
              "      <td>...</td>\n",
              "      <td>...</td>\n",
              "      <td>...</td>\n",
              "    </tr>\n",
              "    <tr>\n",
              "      <th>contraband_found_True</th>\n",
              "      <td>0</td>\n",
              "      <td>0</td>\n",
              "      <td>0</td>\n",
              "      <td>0</td>\n",
              "      <td>0</td>\n",
              "    </tr>\n",
              "    <tr>\n",
              "      <th>contraband_drugs_Not-searched</th>\n",
              "      <td>1</td>\n",
              "      <td>1</td>\n",
              "      <td>1</td>\n",
              "      <td>1</td>\n",
              "      <td>1</td>\n",
              "    </tr>\n",
              "    <tr>\n",
              "      <th>contraband_drugs_True</th>\n",
              "      <td>0</td>\n",
              "      <td>0</td>\n",
              "      <td>0</td>\n",
              "      <td>0</td>\n",
              "      <td>0</td>\n",
              "    </tr>\n",
              "    <tr>\n",
              "      <th>contraband_weapons_Not-searched</th>\n",
              "      <td>1</td>\n",
              "      <td>1</td>\n",
              "      <td>1</td>\n",
              "      <td>1</td>\n",
              "      <td>1</td>\n",
              "    </tr>\n",
              "    <tr>\n",
              "      <th>contraband_weapons_True</th>\n",
              "      <td>0</td>\n",
              "      <td>0</td>\n",
              "      <td>0</td>\n",
              "      <td>0</td>\n",
              "      <td>0</td>\n",
              "    </tr>\n",
              "  </tbody>\n",
              "</table>\n",
              "<p>103 rows × 5 columns</p>\n",
              "</div>\n",
              "      <button class=\"colab-df-convert\" onclick=\"convertToInteractive('df-b36534cf-b636-4403-87b3-a7ddfaf30cea')\"\n",
              "              title=\"Convert this dataframe to an interactive table.\"\n",
              "              style=\"display:none;\">\n",
              "\n",
              "  <svg xmlns=\"http://www.w3.org/2000/svg\" height=\"24px\"viewBox=\"0 0 24 24\"\n",
              "       width=\"24px\">\n",
              "    <path d=\"M0 0h24v24H0V0z\" fill=\"none\"/>\n",
              "    <path d=\"M18.56 5.44l.94 2.06.94-2.06 2.06-.94-2.06-.94-.94-2.06-.94 2.06-2.06.94zm-11 1L8.5 8.5l.94-2.06 2.06-.94-2.06-.94L8.5 2.5l-.94 2.06-2.06.94zm10 10l.94 2.06.94-2.06 2.06-.94-2.06-.94-.94-2.06-.94 2.06-2.06.94z\"/><path d=\"M17.41 7.96l-1.37-1.37c-.4-.4-.92-.59-1.43-.59-.52 0-1.04.2-1.43.59L10.3 9.45l-7.72 7.72c-.78.78-.78 2.05 0 2.83L4 21.41c.39.39.9.59 1.41.59.51 0 1.02-.2 1.41-.59l7.78-7.78 2.81-2.81c.8-.78.8-2.07 0-2.86zM5.41 20L4 18.59l7.72-7.72 1.47 1.35L5.41 20z\"/>\n",
              "  </svg>\n",
              "      </button>\n",
              "\n",
              "\n",
              "\n",
              "    <div id=\"df-786baba2-7573-4965-842c-ab6c84a761e9\">\n",
              "      <button class=\"colab-df-quickchart\" onclick=\"quickchart('df-786baba2-7573-4965-842c-ab6c84a761e9')\"\n",
              "              title=\"Suggest charts.\"\n",
              "              style=\"display:none;\">\n",
              "\n",
              "<svg xmlns=\"http://www.w3.org/2000/svg\" height=\"24px\"viewBox=\"0 0 24 24\"\n",
              "     width=\"24px\">\n",
              "    <g>\n",
              "        <path d=\"M19 3H5c-1.1 0-2 .9-2 2v14c0 1.1.9 2 2 2h14c1.1 0 2-.9 2-2V5c0-1.1-.9-2-2-2zM9 17H7v-7h2v7zm4 0h-2V7h2v10zm4 0h-2v-4h2v4z\"/>\n",
              "    </g>\n",
              "</svg>\n",
              "      </button>\n",
              "    </div>\n",
              "\n",
              "<style>\n",
              "  .colab-df-quickchart {\n",
              "    background-color: #E8F0FE;\n",
              "    border: none;\n",
              "    border-radius: 50%;\n",
              "    cursor: pointer;\n",
              "    display: none;\n",
              "    fill: #1967D2;\n",
              "    height: 32px;\n",
              "    padding: 0 0 0 0;\n",
              "    width: 32px;\n",
              "  }\n",
              "\n",
              "  .colab-df-quickchart:hover {\n",
              "    background-color: #E2EBFA;\n",
              "    box-shadow: 0px 1px 2px rgba(60, 64, 67, 0.3), 0px 1px 3px 1px rgba(60, 64, 67, 0.15);\n",
              "    fill: #174EA6;\n",
              "  }\n",
              "\n",
              "  [theme=dark] .colab-df-quickchart {\n",
              "    background-color: #3B4455;\n",
              "    fill: #D2E3FC;\n",
              "  }\n",
              "\n",
              "  [theme=dark] .colab-df-quickchart:hover {\n",
              "    background-color: #434B5C;\n",
              "    box-shadow: 0px 1px 3px 1px rgba(0, 0, 0, 0.15);\n",
              "    filter: drop-shadow(0px 1px 2px rgba(0, 0, 0, 0.3));\n",
              "    fill: #FFFFFF;\n",
              "  }\n",
              "</style>\n",
              "\n",
              "    <script>\n",
              "      async function quickchart(key) {\n",
              "        const containerElement = document.querySelector('#' + key);\n",
              "        const charts = await google.colab.kernel.invokeFunction(\n",
              "            'suggestCharts', [key], {});\n",
              "      }\n",
              "    </script>\n",
              "\n",
              "      <script>\n",
              "\n",
              "function displayQuickchartButton(domScope) {\n",
              "  let quickchartButtonEl =\n",
              "    domScope.querySelector('#df-786baba2-7573-4965-842c-ab6c84a761e9 button.colab-df-quickchart');\n",
              "  quickchartButtonEl.style.display =\n",
              "    google.colab.kernel.accessAllowed ? 'block' : 'none';\n",
              "}\n",
              "\n",
              "        displayQuickchartButton(document);\n",
              "      </script>\n",
              "      <style>\n",
              "    .colab-df-container {\n",
              "      display:flex;\n",
              "      flex-wrap:wrap;\n",
              "      gap: 12px;\n",
              "    }\n",
              "\n",
              "    .colab-df-convert {\n",
              "      background-color: #E8F0FE;\n",
              "      border: none;\n",
              "      border-radius: 50%;\n",
              "      cursor: pointer;\n",
              "      display: none;\n",
              "      fill: #1967D2;\n",
              "      height: 32px;\n",
              "      padding: 0 0 0 0;\n",
              "      width: 32px;\n",
              "    }\n",
              "\n",
              "    .colab-df-convert:hover {\n",
              "      background-color: #E2EBFA;\n",
              "      box-shadow: 0px 1px 2px rgba(60, 64, 67, 0.3), 0px 1px 3px 1px rgba(60, 64, 67, 0.15);\n",
              "      fill: #174EA6;\n",
              "    }\n",
              "\n",
              "    [theme=dark] .colab-df-convert {\n",
              "      background-color: #3B4455;\n",
              "      fill: #D2E3FC;\n",
              "    }\n",
              "\n",
              "    [theme=dark] .colab-df-convert:hover {\n",
              "      background-color: #434B5C;\n",
              "      box-shadow: 0px 1px 3px 1px rgba(0, 0, 0, 0.15);\n",
              "      filter: drop-shadow(0px 1px 2px rgba(0, 0, 0, 0.3));\n",
              "      fill: #FFFFFF;\n",
              "    }\n",
              "  </style>\n",
              "\n",
              "      <script>\n",
              "        const buttonEl =\n",
              "          document.querySelector('#df-b36534cf-b636-4403-87b3-a7ddfaf30cea button.colab-df-convert');\n",
              "        buttonEl.style.display =\n",
              "          google.colab.kernel.accessAllowed ? 'block' : 'none';\n",
              "\n",
              "        async function convertToInteractive(key) {\n",
              "          const element = document.querySelector('#df-b36534cf-b636-4403-87b3-a7ddfaf30cea');\n",
              "          const dataTable =\n",
              "            await google.colab.kernel.invokeFunction('convertToInteractive',\n",
              "                                                     [key], {});\n",
              "          if (!dataTable) return;\n",
              "\n",
              "          const docLinkHtml = 'Like what you see? Visit the ' +\n",
              "            '<a target=\"_blank\" href=https://colab.research.google.com/notebooks/data_table.ipynb>data table notebook</a>'\n",
              "            + ' to learn more about interactive tables.';\n",
              "          element.innerHTML = '';\n",
              "          dataTable['output_type'] = 'display_data';\n",
              "          await google.colab.output.renderOutput(dataTable, element);\n",
              "          const docLink = document.createElement('div');\n",
              "          docLink.innerHTML = docLinkHtml;\n",
              "          element.appendChild(docLink);\n",
              "        }\n",
              "      </script>\n",
              "    </div>\n",
              "  </div>\n"
            ],
            "text/plain": [
              "                                            144288 220260 13941  244917 302014\n",
              "frisk_performed                              False  False  False  False  False\n",
              "search_conducted                             False  False  False  False  False\n",
              "search_person                                False  False  False  False  False\n",
              "search_vehicle                               False  False  False  False  False\n",
              "reason_for_frisk_Other Official Information  False  False  False  False  False\n",
              "...                                            ...    ...    ...    ...    ...\n",
              "contraband_found_True                            0      0      0      0      0\n",
              "contraband_drugs_Not-searched                    1      1      1      1      1\n",
              "contraband_drugs_True                            0      0      0      0      0\n",
              "contraband_weapons_Not-searched                  1      1      1      1      1\n",
              "contraband_weapons_True                          0      0      0      0      0\n",
              "\n",
              "[103 rows x 5 columns]"
            ]
          },
          "execution_count": 60,
          "metadata": {},
          "output_type": "execute_result"
        }
      ],
      "source": [
        "X_train.head().transpose()"
      ]
    },
    {
      "cell_type": "markdown",
      "metadata": {
        "id": "UAj5BqMWxRYz"
      },
      "source": [
        "## Inspect the coefficients of trained model"
      ]
    },
    {
      "cell_type": "code",
      "execution_count": null,
      "metadata": {
        "colab": {
          "base_uri": "https://localhost:8080/",
          "height": 985
        },
        "id": "Ss66lIw1xtpu",
        "outputId": "1cbd4a8f-a087-493d-e576-8b936678e1e4"
      },
      "outputs": [
        {
          "data": {
            "image/png": "[encoded data removed]",
            "text/plain": [
              "<Figure size 400x1200 with 1 Axes>"
            ]
          },
          "metadata": {},
          "output_type": "display_data"
        }
      ],
      "source": [
        "coef_series = pd.Series(data=unmitigated_pipeline.named_steps[\"logistic_regression\"].coef_[0], index=X.columns)\n",
        "coef_series.sort_values().plot.barh(figsize=(4, 12), legend=False);"
      ]
    },
    {
      "cell_type": "code",
      "execution_count": null,
      "metadata": {
        "colab": {
          "base_uri": "https://localhost:8080/"
        },
        "id": "1kKfbuhpx0WS",
        "outputId": "d8e2bc64-6453-4b4c-ff42-8784ff55d596"
      },
      "outputs": [
        {
          "data": {
            "text/plain": [
              "county_name_Davidson County                              0.000000\n",
              "county_name_Vance County                                 0.000000\n",
              "county_name_Scotland County                              0.000000\n",
              "day_of_week_2                                            0.002963\n",
              "holiday_Memorial Day                                     0.003363\n",
              "month_8                                                  0.011859\n",
              "holiday_Martin Luther King Jr. Day                      -0.014821\n",
              "day_of_week_5                                            0.023493\n",
              "day_of_week_1                                            0.026291\n",
              "reason_for_search_Informant Tip                         -0.027518\n",
              "holiday_Labor Day                                       -0.030260\n",
              "month_3                                                  0.030516\n",
              "month_4                                                 -0.030589\n",
              "day_of_week_6                                            0.031177\n",
              "time_of_day_5-8                                          0.035344\n",
              "day_of_week_3                                            0.046257\n",
              "month_2                                                 -0.047373\n",
              "month_7                                                 -0.049167\n",
              "bin_age_from46to55                                      -0.049984\n",
              "holiday_New Year's Day (Observed)                       -0.051262\n",
              "reason_for_search_Observation of Suspected Contraband    0.053540\n",
              "month_10                                                -0.062425\n",
              "time_of_day_13-16                                        0.067111\n",
              "month_11                                                -0.071202\n",
              "month_12                                                 0.071802\n",
              "search_vehicle                                           0.074550\n",
              "subject_sex_male                                        -0.075186\n",
              "holiday_Veterans Day                                    -0.078042\n",
              "day_of_week_4                                            0.089813\n",
              "month_9                                                 -0.091254\n",
              "reason_for_search_Suspicious Movement                   -0.091312\n",
              "month_6                                                 -0.092572\n",
              "contraband_weapons_Not-searched                         -0.096801\n",
              "contraband_found_Not-searched                           -0.096801\n",
              "reason_for_search_Not-searched                          -0.096801\n",
              "contraband_drugs_Not-searched                           -0.096801\n",
              "holiday_Columbus Day                                     0.100730\n",
              "reason_for_frisk_Suspicious Movement                    -0.104449\n",
              "time_of_day_9-12                                         0.110638\n",
              "contraband_weapons_True                                  0.112965\n",
              "bin_age_from36to45                                      -0.114472\n",
              "month_5                                                 -0.114881\n",
              "holiday_New Year's Day                                  -0.120214\n",
              "year_2008                                                0.122382\n",
              "reason_for_search_Witness Observation                   -0.134621\n",
              "reason_for_frisk_Informant Tip                           0.143563\n",
              "year_2007                                               -0.143580\n",
              "county_name_Macon County                                 0.145868\n",
              "year_2009                                                0.151058\n",
              "reason_for_frisk_Other Official Information              0.161998\n",
              "time_of_day_17-20                                        0.167232\n",
              "reason_for_search_Erratic/Suspicious Behavior            0.168756\n",
              "year_2010                                                0.169995\n",
              "holiday_Independence Day (Observed)                     -0.181266\n",
              "county_name_Davie County                                 0.182092\n",
              "county_name_Dare County                                  0.185688\n",
              "bin_age_from56to65                                       0.185911\n",
              "search_conducted                                        -0.187964\n",
              "subject_race_1.0                                         0.193161\n",
              "holiday_Christmas Day (Observed)                        -0.200713\n",
              "department_name_Durham Police Department                -0.210635\n",
              "bin_age_25to35                                          -0.211525\n",
              "bin_age_16to24                                          -0.214293\n",
              "holiday_Independence Day                                -0.216835\n",
              "time_of_day_21-24                                        0.257551\n",
              "county_name_Orange County                                0.294215\n",
              "year_2011                                                0.298626\n",
              "county_name_Union County                                -0.308544\n",
              "county_name_Duplin County                               -0.310134\n",
              "holiday_Thanksgiving                                     0.333713\n",
              "frisk_performed                                         -0.335523\n",
              "reason_for_frisk_Erratic/Suspicious Behavior            -0.339355\n",
              "year_2012                                                0.354961\n",
              "year_2013                                                0.362097\n",
              "year_2002                                               -0.362756\n",
              "holiday_Washington's Birthday                            0.369654\n",
              "reason_for_frisk_Observation of Suspected Contraband     0.392335\n",
              "county_name_Brunswick County                            -0.396807\n",
              "holiday_Veterans Day (Observed)                          0.396960\n",
              "county_name_Durham County                               -0.403176\n",
              "year_2015                                                0.426274\n",
              "year_2014                                                0.435172\n",
              "search_basis_probable cause                             -0.437740\n",
              "reason_for_search_Other Official Information            -0.446427\n",
              "year_2004                                               -0.465073\n",
              "year_2006                                               -0.505760\n",
              "bin_age_from66tto100                                     0.516626\n",
              "contraband_drugs_True                                   -0.544912\n",
              "year_2003                                               -0.661255\n",
              "reason_for_stop_Driving While Impaired                   0.663027\n",
              "search_person                                           -0.673533\n",
              "year_2005                                               -0.679394\n",
              "reason_for_stop_Speed Limit Violation                    0.719798\n",
              "reason_for_stop_Seat Belt Violation                      0.859785\n",
              "reason_for_stop_Stop Light/Sign Violation                1.241795\n",
              "reason_for_stop_Vehicle Regulatory Violation             1.258728\n",
              "contraband_found_True                                   -1.319311\n",
              "reason_for_stop_Other Motor Vehicle Violation            1.371030\n",
              "reason_for_frisk_Witness Observation                     1.497560\n",
              "reason_for_stop_Investigation                            1.588741\n",
              "reason_for_stop_Safe Movement Violation                  2.265818\n",
              "reason_for_stop_Vehicle Equipment Violation              2.402514\n",
              "search_basis_other                                      -3.131741\n",
              "dtype: float64"
            ]
          },
          "execution_count": 62,
          "metadata": {},
          "output_type": "execute_result"
        }
      ],
      "source": [
        "pd.set_option('display.max_rows', None)\n",
        "# coef_series.sort_values()\n",
        "coef_series.reindex(coef_series.abs().sort_values().index)"
      ]
    },
    {
      "cell_type": "code",
      "execution_count": null,
      "metadata": {
        "colab": {
          "base_uri": "https://localhost:8080/"
        },
        "id": "lLGrR5StP8CJ",
        "outputId": "7980aadc-7f6b-4669-e14d-7429459a097f"
      },
      "outputs": [
        {
          "data": {
            "text/plain": [
              "Speed Limit Violation            108640\n",
              "Vehicle Regulatory Violation      67409\n",
              "Vehicle Equipment Violation       43267\n",
              "Investigation                     25226\n",
              "Safe Movement Violation           25113\n",
              "Stop Light/Sign Violation         22647\n",
              "Other Motor Vehicle Violation     15383\n",
              "Seat Belt Violation               11311\n",
              "Checkpoint                         5098\n",
              "Driving While Impaired             1930\n",
              "Name: reason_for_stop, dtype: int64"
            ]
          },
          "execution_count": 63,
          "metadata": {},
          "output_type": "execute_result"
        }
      ],
      "source": [
        "df_durham_old.reason_for_stop.value_counts()"
      ]
    },
    {
      "cell_type": "markdown",
      "metadata": {
        "id": "LsomKzrezsCu"
      },
      "source": [
        "# Fairness assessment"
      ]
    },
    {
      "cell_type": "markdown",
      "metadata": {
        "id": "_CMgQ423zv81"
      },
      "source": [
        "## Fairness assessment with MetricFrame"
      ]
    },
    {
      "cell_type": "code",
      "execution_count": null,
      "metadata": {
        "id": "czJouR6Pz2fF"
      },
      "outputs": [],
      "source": [
        "mf1 = MetricFrame(metrics=false_negative_rate,\n",
        "                  y_true=Y_test,\n",
        "                  y_pred=Y_pred,\n",
        "                  sensitive_features=df_test['subject_race'])"
      ]
    },
    {
      "cell_type": "code",
      "execution_count": null,
      "metadata": {
        "colab": {
          "base_uri": "https://localhost:8080/"
        },
        "id": "IwPn-1TG20tr",
        "outputId": "1723d1c6-5281-4fd9-9169-2e2a3351702e"
      },
      "outputs": [
        {
          "data": {
            "text/plain": [
              "subject_race\n",
              "0.0    0.549764\n",
              "1.0    0.361023\n",
              "Name: false_negative_rate, dtype: float64"
            ]
          },
          "execution_count": 65,
          "metadata": {},
          "output_type": "execute_result"
        }
      ],
      "source": [
        "mf1.by_group"
      ]
    },
    {
      "cell_type": "code",
      "execution_count": null,
      "metadata": {
        "colab": {
          "base_uri": "https://localhost:8080/"
        },
        "id": "B--XnzDj2-yi",
        "outputId": "5d93ecbc-e757-4d08-89b4-2ef82e3f4656"
      },
      "outputs": [
        {
          "data": {
            "text/plain": [
              "0    15806\n",
              "1    13333\n",
              "Name: target, dtype: int64"
            ]
          },
          "execution_count": 66,
          "metadata": {},
          "output_type": "execute_result"
        }
      ],
      "source": [
        "Y_test[df_test['subject_race'] == 0].value_counts()"
      ]
    },
    {
      "cell_type": "code",
      "execution_count": null,
      "metadata": {
        "colab": {
          "base_uri": "https://localhost:8080/"
        },
        "id": "3TcCiXy43d2X",
        "outputId": "e29112b1-9ddf-4d38-f9f1-4ca338bc02d0"
      },
      "outputs": [
        {
          "data": {
            "text/plain": [
              "0    27745\n",
              "1    26508\n",
              "Name: target, dtype: int64"
            ]
          },
          "execution_count": 67,
          "metadata": {},
          "output_type": "execute_result"
        }
      ],
      "source": [
        "Y_test[df_test['subject_race'] == 1].value_counts()"
      ]
    },
    {
      "cell_type": "code",
      "execution_count": null,
      "metadata": {
        "colab": {
          "base_uri": "https://localhost:8080/"
        },
        "id": "BUANFoj8E845",
        "outputId": "c13e0c6b-fa48-4b55-d40f-ae8c50b5a26c"
      },
      "outputs": [
        {
          "data": {
            "text/plain": [
              "citation    0.533302\n",
              "warning     0.441451\n",
              "arrest      0.025247\n",
              "Name: outcome, dtype: float64"
            ]
          },
          "execution_count": 68,
          "metadata": {},
          "output_type": "execute_result"
        }
      ],
      "source": [
        "df_test['outcome'].value_counts(normalize=True)"
      ]
    },
    {
      "cell_type": "code",
      "execution_count": null,
      "metadata": {
        "id": "ArurcgAC55Cz"
      },
      "outputs": [],
      "source": [
        "# from statsmodels.stats.proportion import test_proportions_2indep\n",
        "# test_proportions_2indep(\n",
        "#     count1 = 120272*0.215436\n",
        "#     , nobs1 = 120272\n",
        "#     , count2 = 178352*0.253596\n",
        "#     , nobs2 = 178352\n",
        "#     , value=0\n",
        "#     , method=None\n",
        "#     , compare='diff'\n",
        "#     , alternative='smaller'\n",
        "#     , correction=True\n",
        "#     , return_results=True)"
      ]
    },
    {
      "cell_type": "code",
      "execution_count": null,
      "metadata": {
        "colab": {
          "base_uri": "https://localhost:8080/"
        },
        "id": "SurdbXY805UV",
        "outputId": "c9e14c83-536b-489f-a66e-6816b7ff46d5"
      },
      "outputs": [
        {
          "name": "stdout",
          "output_type": "stream",
          "text": [
            "difference: 0.189\n",
            "ratio: 0.657\n",
            "max across groups: 0.55\n"
          ]
        }
      ],
      "source": [
        "print(f\"difference: {mf1.difference():.3}\\n\"\n",
        "      f\"ratio: {mf1.ratio():.3}\\n\"\n",
        "      f\"max across groups: {mf1.group_max():.3}\")"
      ]
    },
    {
      "cell_type": "code",
      "execution_count": null,
      "metadata": {
        "colab": {
          "base_uri": "https://localhost:8080/",
          "height": 142
        },
        "id": "-15Huytv1CD6",
        "outputId": "1081392a-ae27-43a1-c018-cbcff8d09f40"
      },
      "outputs": [
        {
          "data": {
            "text/html": [
              "\n",
              "\n",
              "  <div id=\"df-55124771-9d2a-4797-b035-f049b9234edd\">\n",
              "    <div class=\"colab-df-container\">\n",
              "      <div>\n",
              "<style scoped>\n",
              "    .dataframe tbody tr th:only-of-type {\n",
              "        vertical-align: middle;\n",
              "    }\n",
              "\n",
              "    .dataframe tbody tr th {\n",
              "        vertical-align: top;\n",
              "    }\n",
              "\n",
              "    .dataframe thead th {\n",
              "        text-align: right;\n",
              "    }\n",
              "</style>\n",
              "<table border=\"1\" class=\"dataframe\">\n",
              "  <thead>\n",
              "    <tr style=\"text-align: right;\">\n",
              "      <th></th>\n",
              "      <th>selection_rate</th>\n",
              "      <th>false_negative_rate</th>\n",
              "      <th>balanced_accuracy</th>\n",
              "    </tr>\n",
              "    <tr>\n",
              "      <th>subject_race</th>\n",
              "      <th></th>\n",
              "      <th></th>\n",
              "      <th></th>\n",
              "    </tr>\n",
              "  </thead>\n",
              "  <tbody>\n",
              "    <tr>\n",
              "      <th>0.0</th>\n",
              "      <td>0.295480</td>\n",
              "      <td>0.549764</td>\n",
              "      <td>0.642649</td>\n",
              "    </tr>\n",
              "    <tr>\n",
              "      <th>1.0</th>\n",
              "      <td>0.479328</td>\n",
              "      <td>0.361023</td>\n",
              "      <td>0.656090</td>\n",
              "    </tr>\n",
              "  </tbody>\n",
              "</table>\n",
              "</div>\n",
              "      <button class=\"colab-df-convert\" onclick=\"convertToInteractive('df-55124771-9d2a-4797-b035-f049b9234edd')\"\n",
              "              title=\"Convert this dataframe to an interactive table.\"\n",
              "              style=\"display:none;\">\n",
              "\n",
              "  <svg xmlns=\"http://www.w3.org/2000/svg\" height=\"24px\"viewBox=\"0 0 24 24\"\n",
              "       width=\"24px\">\n",
              "    <path d=\"M0 0h24v24H0V0z\" fill=\"none\"/>\n",
              "    <path d=\"M18.56 5.44l.94 2.06.94-2.06 2.06-.94-2.06-.94-.94-2.06-.94 2.06-2.06.94zm-11 1L8.5 8.5l.94-2.06 2.06-.94-2.06-.94L8.5 2.5l-.94 2.06-2.06.94zm10 10l.94 2.06.94-2.06 2.06-.94-2.06-.94-.94-2.06-.94 2.06-2.06.94z\"/><path d=\"M17.41 7.96l-1.37-1.37c-.4-.4-.92-.59-1.43-.59-.52 0-1.04.2-1.43.59L10.3 9.45l-7.72 7.72c-.78.78-.78 2.05 0 2.83L4 21.41c.39.39.9.59 1.41.59.51 0 1.02-.2 1.41-.59l7.78-7.78 2.81-2.81c.8-.78.8-2.07 0-2.86zM5.41 20L4 18.59l7.72-7.72 1.47 1.35L5.41 20z\"/>\n",
              "  </svg>\n",
              "      </button>\n",
              "\n",
              "\n",
              "\n",
              "    <div id=\"df-8b48a64e-d6f6-4d7a-aa50-7323824bf1cc\">\n",
              "      <button class=\"colab-df-quickchart\" onclick=\"quickchart('df-8b48a64e-d6f6-4d7a-aa50-7323824bf1cc')\"\n",
              "              title=\"Suggest charts.\"\n",
              "              style=\"display:none;\">\n",
              "\n",
              "<svg xmlns=\"http://www.w3.org/2000/svg\" height=\"24px\"viewBox=\"0 0 24 24\"\n",
              "     width=\"24px\">\n",
              "    <g>\n",
              "        <path d=\"M19 3H5c-1.1 0-2 .9-2 2v14c0 1.1.9 2 2 2h14c1.1 0 2-.9 2-2V5c0-1.1-.9-2-2-2zM9 17H7v-7h2v7zm4 0h-2V7h2v10zm4 0h-2v-4h2v4z\"/>\n",
              "    </g>\n",
              "</svg>\n",
              "      </button>\n",
              "    </div>\n",
              "\n",
              "<style>\n",
              "  .colab-df-quickchart {\n",
              "    background-color: #E8F0FE;\n",
              "    border: none;\n",
              "    border-radius: 50%;\n",
              "    cursor: pointer;\n",
              "    display: none;\n",
              "    fill: #1967D2;\n",
              "    height: 32px;\n",
              "    padding: 0 0 0 0;\n",
              "    width: 32px;\n",
              "  }\n",
              "\n",
              "  .colab-df-quickchart:hover {\n",
              "    background-color: #E2EBFA;\n",
              "    box-shadow: 0px 1px 2px rgba(60, 64, 67, 0.3), 0px 1px 3px 1px rgba(60, 64, 67, 0.15);\n",
              "    fill: #174EA6;\n",
              "  }\n",
              "\n",
              "  [theme=dark] .colab-df-quickchart {\n",
              "    background-color: #3B4455;\n",
              "    fill: #D2E3FC;\n",
              "  }\n",
              "\n",
              "  [theme=dark] .colab-df-quickchart:hover {\n",
              "    background-color: #434B5C;\n",
              "    box-shadow: 0px 1px 3px 1px rgba(0, 0, 0, 0.15);\n",
              "    filter: drop-shadow(0px 1px 2px rgba(0, 0, 0, 0.3));\n",
              "    fill: #FFFFFF;\n",
              "  }\n",
              "</style>\n",
              "\n",
              "    <script>\n",
              "      async function quickchart(key) {\n",
              "        const containerElement = document.querySelector('#' + key);\n",
              "        const charts = await google.colab.kernel.invokeFunction(\n",
              "            'suggestCharts', [key], {});\n",
              "      }\n",
              "    </script>\n",
              "\n",
              "      <script>\n",
              "\n",
              "function displayQuickchartButton(domScope) {\n",
              "  let quickchartButtonEl =\n",
              "    domScope.querySelector('#df-8b48a64e-d6f6-4d7a-aa50-7323824bf1cc button.colab-df-quickchart');\n",
              "  quickchartButtonEl.style.display =\n",
              "    google.colab.kernel.accessAllowed ? 'block' : 'none';\n",
              "}\n",
              "\n",
              "        displayQuickchartButton(document);\n",
              "      </script>\n",
              "      <style>\n",
              "    .colab-df-container {\n",
              "      display:flex;\n",
              "      flex-wrap:wrap;\n",
              "      gap: 12px;\n",
              "    }\n",
              "\n",
              "    .colab-df-convert {\n",
              "      background-color: #E8F0FE;\n",
              "      border: none;\n",
              "      border-radius: 50%;\n",
              "      cursor: pointer;\n",
              "      display: none;\n",
              "      fill: #1967D2;\n",
              "      height: 32px;\n",
              "      padding: 0 0 0 0;\n",
              "      width: 32px;\n",
              "    }\n",
              "\n",
              "    .colab-df-convert:hover {\n",
              "      background-color: #E2EBFA;\n",
              "      box-shadow: 0px 1px 2px rgba(60, 64, 67, 0.3), 0px 1px 3px 1px rgba(60, 64, 67, 0.15);\n",
              "      fill: #174EA6;\n",
              "    }\n",
              "\n",
              "    [theme=dark] .colab-df-convert {\n",
              "      background-color: #3B4455;\n",
              "      fill: #D2E3FC;\n",
              "    }\n",
              "\n",
              "    [theme=dark] .colab-df-convert:hover {\n",
              "      background-color: #434B5C;\n",
              "      box-shadow: 0px 1px 3px 1px rgba(0, 0, 0, 0.15);\n",
              "      filter: drop-shadow(0px 1px 2px rgba(0, 0, 0, 0.3));\n",
              "      fill: #FFFFFF;\n",
              "    }\n",
              "  </style>\n",
              "\n",
              "      <script>\n",
              "        const buttonEl =\n",
              "          document.querySelector('#df-55124771-9d2a-4797-b035-f049b9234edd button.colab-df-convert');\n",
              "        buttonEl.style.display =\n",
              "          google.colab.kernel.accessAllowed ? 'block' : 'none';\n",
              "\n",
              "        async function convertToInteractive(key) {\n",
              "          const element = document.querySelector('#df-55124771-9d2a-4797-b035-f049b9234edd');\n",
              "          const dataTable =\n",
              "            await google.colab.kernel.invokeFunction('convertToInteractive',\n",
              "                                                     [key], {});\n",
              "          if (!dataTable) return;\n",
              "\n",
              "          const docLinkHtml = 'Like what you see? Visit the ' +\n",
              "            '<a target=\"_blank\" href=https://colab.research.google.com/notebooks/data_table.ipynb>data table notebook</a>'\n",
              "            + ' to learn more about interactive tables.';\n",
              "          element.innerHTML = '';\n",
              "          dataTable['output_type'] = 'display_data';\n",
              "          await google.colab.output.renderOutput(dataTable, element);\n",
              "          const docLink = document.createElement('div');\n",
              "          docLink.innerHTML = docLinkHtml;\n",
              "          element.appendChild(docLink);\n",
              "        }\n",
              "      </script>\n",
              "    </div>\n",
              "  </div>\n"
            ],
            "text/plain": [
              "              selection_rate  false_negative_rate  balanced_accuracy\n",
              "subject_race                                                        \n",
              "0.0                 0.295480             0.549764           0.642649\n",
              "1.0                 0.479328             0.361023           0.656090"
            ]
          },
          "execution_count": 71,
          "metadata": {},
          "output_type": "execute_result"
        }
      ],
      "source": [
        "# You can also evaluate multiple metrics by providing a dictionary\n",
        "\n",
        "metrics_dict = {\n",
        "    \"selection_rate\": selection_rate,\n",
        "    \"false_negative_rate\": false_negative_rate,\n",
        "    \"balanced_accuracy\": balanced_accuracy_score,\n",
        "}\n",
        "\n",
        "metricframe_unmitigated = MetricFrame(metrics=metrics_dict,\n",
        "                  y_true=Y_test,\n",
        "                  y_pred=Y_pred,\n",
        "                  sensitive_features=df_test['subject_race'])\n",
        "\n",
        "# The disaggregated metrics are then stored in a pandas DataFrame:\n",
        "\n",
        "metricframe_unmitigated.by_group"
      ]
    },
    {
      "cell_type": "code",
      "execution_count": null,
      "metadata": {
        "colab": {
          "base_uri": "https://localhost:8080/",
          "height": 173
        },
        "id": "6o7-xUnG1LD4",
        "outputId": "aaee3f44-36ef-427e-f664-e737829a48cf"
      },
      "outputs": [
        {
          "data": {
            "text/html": [
              "\n",
              "\n",
              "  <div id=\"df-ac15b5d4-3125-4a22-a026-3063ab66387e\">\n",
              "    <div class=\"colab-df-container\">\n",
              "      <div>\n",
              "<style scoped>\n",
              "    .dataframe tbody tr th:only-of-type {\n",
              "        vertical-align: middle;\n",
              "    }\n",
              "\n",
              "    .dataframe tbody tr th {\n",
              "        vertical-align: top;\n",
              "    }\n",
              "\n",
              "    .dataframe thead th {\n",
              "        text-align: right;\n",
              "    }\n",
              "</style>\n",
              "<table border=\"1\" class=\"dataframe\">\n",
              "  <thead>\n",
              "    <tr style=\"text-align: right;\">\n",
              "      <th></th>\n",
              "      <th>selection_rate</th>\n",
              "      <th>false_negative_rate</th>\n",
              "      <th>balanced_accuracy</th>\n",
              "    </tr>\n",
              "  </thead>\n",
              "  <tbody>\n",
              "    <tr>\n",
              "      <th>difference</th>\n",
              "      <td>0.183848</td>\n",
              "      <td>0.188741</td>\n",
              "      <td>0.01344</td>\n",
              "    </tr>\n",
              "    <tr>\n",
              "      <th>ratio</th>\n",
              "      <td>0.616447</td>\n",
              "      <td>0.656688</td>\n",
              "      <td>0.979515</td>\n",
              "    </tr>\n",
              "    <tr>\n",
              "      <th>group_min</th>\n",
              "      <td>0.29548</td>\n",
              "      <td>0.361023</td>\n",
              "      <td>0.642649</td>\n",
              "    </tr>\n",
              "    <tr>\n",
              "      <th>group_max</th>\n",
              "      <td>0.479328</td>\n",
              "      <td>0.549764</td>\n",
              "      <td>0.65609</td>\n",
              "    </tr>\n",
              "  </tbody>\n",
              "</table>\n",
              "</div>\n",
              "      <button class=\"colab-df-convert\" onclick=\"convertToInteractive('df-ac15b5d4-3125-4a22-a026-3063ab66387e')\"\n",
              "              title=\"Convert this dataframe to an interactive table.\"\n",
              "              style=\"display:none;\">\n",
              "\n",
              "  <svg xmlns=\"http://www.w3.org/2000/svg\" height=\"24px\"viewBox=\"0 0 24 24\"\n",
              "       width=\"24px\">\n",
              "    <path d=\"M0 0h24v24H0V0z\" fill=\"none\"/>\n",
              "    <path d=\"M18.56 5.44l.94 2.06.94-2.06 2.06-.94-2.06-.94-.94-2.06-.94 2.06-2.06.94zm-11 1L8.5 8.5l.94-2.06 2.06-.94-2.06-.94L8.5 2.5l-.94 2.06-2.06.94zm10 10l.94 2.06.94-2.06 2.06-.94-2.06-.94-.94-2.06-.94 2.06-2.06.94z\"/><path d=\"M17.41 7.96l-1.37-1.37c-.4-.4-.92-.59-1.43-.59-.52 0-1.04.2-1.43.59L10.3 9.45l-7.72 7.72c-.78.78-.78 2.05 0 2.83L4 21.41c.39.39.9.59 1.41.59.51 0 1.02-.2 1.41-.59l7.78-7.78 2.81-2.81c.8-.78.8-2.07 0-2.86zM5.41 20L4 18.59l7.72-7.72 1.47 1.35L5.41 20z\"/>\n",
              "  </svg>\n",
              "      </button>\n",
              "\n",
              "\n",
              "\n",
              "    <div id=\"df-a40f1b2a-e9c1-4462-a518-590c99af2fe3\">\n",
              "      <button class=\"colab-df-quickchart\" onclick=\"quickchart('df-a40f1b2a-e9c1-4462-a518-590c99af2fe3')\"\n",
              "              title=\"Suggest charts.\"\n",
              "              style=\"display:none;\">\n",
              "\n",
              "<svg xmlns=\"http://www.w3.org/2000/svg\" height=\"24px\"viewBox=\"0 0 24 24\"\n",
              "     width=\"24px\">\n",
              "    <g>\n",
              "        <path d=\"M19 3H5c-1.1 0-2 .9-2 2v14c0 1.1.9 2 2 2h14c1.1 0 2-.9 2-2V5c0-1.1-.9-2-2-2zM9 17H7v-7h2v7zm4 0h-2V7h2v10zm4 0h-2v-4h2v4z\"/>\n",
              "    </g>\n",
              "</svg>\n",
              "      </button>\n",
              "    </div>\n",
              "\n",
              "<style>\n",
              "  .colab-df-quickchart {\n",
              "    background-color: #E8F0FE;\n",
              "    border: none;\n",
              "    border-radius: 50%;\n",
              "    cursor: pointer;\n",
              "    display: none;\n",
              "    fill: #1967D2;\n",
              "    height: 32px;\n",
              "    padding: 0 0 0 0;\n",
              "    width: 32px;\n",
              "  }\n",
              "\n",
              "  .colab-df-quickchart:hover {\n",
              "    background-color: #E2EBFA;\n",
              "    box-shadow: 0px 1px 2px rgba(60, 64, 67, 0.3), 0px 1px 3px 1px rgba(60, 64, 67, 0.15);\n",
              "    fill: #174EA6;\n",
              "  }\n",
              "\n",
              "  [theme=dark] .colab-df-quickchart {\n",
              "    background-color: #3B4455;\n",
              "    fill: #D2E3FC;\n",
              "  }\n",
              "\n",
              "  [theme=dark] .colab-df-quickchart:hover {\n",
              "    background-color: #434B5C;\n",
              "    box-shadow: 0px 1px 3px 1px rgba(0, 0, 0, 0.15);\n",
              "    filter: drop-shadow(0px 1px 2px rgba(0, 0, 0, 0.3));\n",
              "    fill: #FFFFFF;\n",
              "  }\n",
              "</style>\n",
              "\n",
              "    <script>\n",
              "      async function quickchart(key) {\n",
              "        const containerElement = document.querySelector('#' + key);\n",
              "        const charts = await google.colab.kernel.invokeFunction(\n",
              "            'suggestCharts', [key], {});\n",
              "      }\n",
              "    </script>\n",
              "\n",
              "      <script>\n",
              "\n",
              "function displayQuickchartButton(domScope) {\n",
              "  let quickchartButtonEl =\n",
              "    domScope.querySelector('#df-a40f1b2a-e9c1-4462-a518-590c99af2fe3 button.colab-df-quickchart');\n",
              "  quickchartButtonEl.style.display =\n",
              "    google.colab.kernel.accessAllowed ? 'block' : 'none';\n",
              "}\n",
              "\n",
              "        displayQuickchartButton(document);\n",
              "      </script>\n",
              "      <style>\n",
              "    .colab-df-container {\n",
              "      display:flex;\n",
              "      flex-wrap:wrap;\n",
              "      gap: 12px;\n",
              "    }\n",
              "\n",
              "    .colab-df-convert {\n",
              "      background-color: #E8F0FE;\n",
              "      border: none;\n",
              "      border-radius: 50%;\n",
              "      cursor: pointer;\n",
              "      display: none;\n",
              "      fill: #1967D2;\n",
              "      height: 32px;\n",
              "      padding: 0 0 0 0;\n",
              "      width: 32px;\n",
              "    }\n",
              "\n",
              "    .colab-df-convert:hover {\n",
              "      background-color: #E2EBFA;\n",
              "      box-shadow: 0px 1px 2px rgba(60, 64, 67, 0.3), 0px 1px 3px 1px rgba(60, 64, 67, 0.15);\n",
              "      fill: #174EA6;\n",
              "    }\n",
              "\n",
              "    [theme=dark] .colab-df-convert {\n",
              "      background-color: #3B4455;\n",
              "      fill: #D2E3FC;\n",
              "    }\n",
              "\n",
              "    [theme=dark] .colab-df-convert:hover {\n",
              "      background-color: #434B5C;\n",
              "      box-shadow: 0px 1px 3px 1px rgba(0, 0, 0, 0.15);\n",
              "      filter: drop-shadow(0px 1px 2px rgba(0, 0, 0, 0.3));\n",
              "      fill: #FFFFFF;\n",
              "    }\n",
              "  </style>\n",
              "\n",
              "      <script>\n",
              "        const buttonEl =\n",
              "          document.querySelector('#df-ac15b5d4-3125-4a22-a026-3063ab66387e button.colab-df-convert');\n",
              "        buttonEl.style.display =\n",
              "          google.colab.kernel.accessAllowed ? 'block' : 'none';\n",
              "\n",
              "        async function convertToInteractive(key) {\n",
              "          const element = document.querySelector('#df-ac15b5d4-3125-4a22-a026-3063ab66387e');\n",
              "          const dataTable =\n",
              "            await google.colab.kernel.invokeFunction('convertToInteractive',\n",
              "                                                     [key], {});\n",
              "          if (!dataTable) return;\n",
              "\n",
              "          const docLinkHtml = 'Like what you see? Visit the ' +\n",
              "            '<a target=\"_blank\" href=https://colab.research.google.com/notebooks/data_table.ipynb>data table notebook</a>'\n",
              "            + ' to learn more about interactive tables.';\n",
              "          element.innerHTML = '';\n",
              "          dataTable['output_type'] = 'display_data';\n",
              "          await google.colab.output.renderOutput(dataTable, element);\n",
              "          const docLink = document.createElement('div');\n",
              "          docLink.innerHTML = docLinkHtml;\n",
              "          element.appendChild(docLink);\n",
              "        }\n",
              "      </script>\n",
              "    </div>\n",
              "  </div>\n"
            ],
            "text/plain": [
              "           selection_rate false_negative_rate balanced_accuracy\n",
              "difference       0.183848            0.188741           0.01344\n",
              "ratio            0.616447            0.656688          0.979515\n",
              "group_min         0.29548            0.361023          0.642649\n",
              "group_max        0.479328            0.549764           0.65609"
            ]
          },
          "execution_count": 72,
          "metadata": {},
          "output_type": "execute_result"
        }
      ],
      "source": [
        "# You'll probably want to view them transposed:\n",
        "\n",
        "pd.DataFrame({'difference': metricframe_unmitigated.difference(),\n",
        "              'ratio': metricframe_unmitigated.ratio(),\n",
        "              'group_min': metricframe_unmitigated.group_min(),\n",
        "              'group_max': metricframe_unmitigated.group_max()}).T"
      ]
    },
    {
      "cell_type": "code",
      "execution_count": null,
      "metadata": {
        "colab": {
          "base_uri": "https://localhost:8080/",
          "height": 384
        },
        "id": "v6z9USd61WQK",
        "outputId": "a06b9e25-b4ed-49a4-ce6d-063d64e1dab6"
      },
      "outputs": [
        {
          "data": {
            "image/png": "[encoded data removed]",
            "text/plain": [
              "<Figure size 1200x400 with 3 Axes>"
            ]
          },
          "metadata": {},
          "output_type": "display_data"
        }
      ],
      "source": [
        "# You can also easily plot all of the metrics using DataFrame plotting capabilities\n",
        "\n",
        "metricframe_unmitigated.by_group.plot.bar(subplots=True, layout= [1,3], figsize=(12, 4),\n",
        "                      legend=False, rot=-45, position=1.5);"
      ]
    },
    {
      "cell_type": "markdown",
      "metadata": {
        "id": "XXPcj0XZWVgb"
      },
      "source": [
        "# Hyperparameter Tuning"
      ]
    },
    {
      "cell_type": "code",
      "execution_count": null,
      "metadata": {
        "colab": {
          "background_save": true
        },
        "id": "anE9ZOZOXA_w",
        "outputId": "ac4755c3-62fc-466d-9641-33dedba9c0c1"
      },
      "outputs": [
        {
          "name": "stderr",
          "output_type": "stream",
          "text": [
            "/usr/local/lib/python3.10/dist-packages/sklearn/linear_model/_sag.py:350: ConvergenceWarning: The max_iter was reached which means the coef_ did not converge\n",
            "  warnings.warn(\n",
            "/usr/local/lib/python3.10/dist-packages/sklearn/linear_model/_sag.py:350: ConvergenceWarning: The max_iter was reached which means the coef_ did not converge\n",
            "  warnings.warn(\n",
            "/usr/local/lib/python3.10/dist-packages/sklearn/linear_model/_sag.py:350: ConvergenceWarning: The max_iter was reached which means the coef_ did not converge\n",
            "  warnings.warn(\n",
            "/usr/local/lib/python3.10/dist-packages/sklearn/linear_model/_sag.py:350: ConvergenceWarning: The max_iter was reached which means the coef_ did not converge\n",
            "  warnings.warn(\n",
            "/usr/local/lib/python3.10/dist-packages/sklearn/linear_model/_sag.py:350: ConvergenceWarning: The max_iter was reached which means the coef_ did not converge\n",
            "  warnings.warn(\n",
            "/usr/local/lib/python3.10/dist-packages/sklearn/linear_model/_sag.py:350: ConvergenceWarning: The max_iter was reached which means the coef_ did not converge\n",
            "  warnings.warn(\n",
            "/usr/local/lib/python3.10/dist-packages/sklearn/linear_model/_sag.py:350: ConvergenceWarning: The max_iter was reached which means the coef_ did not converge\n",
            "  warnings.warn(\n",
            "/usr/local/lib/python3.10/dist-packages/sklearn/linear_model/_sag.py:350: ConvergenceWarning: The max_iter was reached which means the coef_ did not converge\n",
            "  warnings.warn(\n",
            "/usr/local/lib/python3.10/dist-packages/sklearn/linear_model/_sag.py:350: ConvergenceWarning: The max_iter was reached which means the coef_ did not converge\n",
            "  warnings.warn(\n",
            "/usr/local/lib/python3.10/dist-packages/sklearn/linear_model/_sag.py:350: ConvergenceWarning: The max_iter was reached which means the coef_ did not converge\n",
            "  warnings.warn(\n",
            "/usr/local/lib/python3.10/dist-packages/sklearn/linear_model/_sag.py:350: ConvergenceWarning: The max_iter was reached which means the coef_ did not converge\n",
            "  warnings.warn(\n",
            "/usr/local/lib/python3.10/dist-packages/sklearn/linear_model/_sag.py:350: ConvergenceWarning: The max_iter was reached which means the coef_ did not converge\n",
            "  warnings.warn(\n",
            "/usr/local/lib/python3.10/dist-packages/sklearn/linear_model/_sag.py:350: ConvergenceWarning: The max_iter was reached which means the coef_ did not converge\n",
            "  warnings.warn(\n",
            "/usr/local/lib/python3.10/dist-packages/sklearn/linear_model/_sag.py:350: ConvergenceWarning: The max_iter was reached which means the coef_ did not converge\n",
            "  warnings.warn(\n",
            "/usr/local/lib/python3.10/dist-packages/sklearn/linear_model/_sag.py:350: ConvergenceWarning: The max_iter was reached which means the coef_ did not converge\n",
            "  warnings.warn(\n",
            "/usr/local/lib/python3.10/dist-packages/sklearn/linear_model/_sag.py:350: ConvergenceWarning: The max_iter was reached which means the coef_ did not converge\n",
            "  warnings.warn(\n",
            "/usr/local/lib/python3.10/dist-packages/sklearn/linear_model/_sag.py:350: ConvergenceWarning: The max_iter was reached which means the coef_ did not converge\n",
            "  warnings.warn(\n",
            "/usr/local/lib/python3.10/dist-packages/sklearn/linear_model/_sag.py:350: ConvergenceWarning: The max_iter was reached which means the coef_ did not converge\n",
            "  warnings.warn(\n",
            "/usr/local/lib/python3.10/dist-packages/sklearn/linear_model/_sag.py:350: ConvergenceWarning: The max_iter was reached which means the coef_ did not converge\n",
            "  warnings.warn(\n",
            "/usr/local/lib/python3.10/dist-packages/sklearn/linear_model/_sag.py:350: ConvergenceWarning: The max_iter was reached which means the coef_ did not converge\n",
            "  warnings.warn(\n",
            "/usr/local/lib/python3.10/dist-packages/sklearn/linear_model/_sag.py:350: ConvergenceWarning: The max_iter was reached which means the coef_ did not converge\n",
            "  warnings.warn(\n",
            "/usr/local/lib/python3.10/dist-packages/sklearn/linear_model/_sag.py:350: ConvergenceWarning: The max_iter was reached which means the coef_ did not converge\n",
            "  warnings.warn(\n",
            "/usr/local/lib/python3.10/dist-packages/sklearn/linear_model/_sag.py:350: ConvergenceWarning: The max_iter was reached which means the coef_ did not converge\n",
            "  warnings.warn(\n",
            "/usr/local/lib/python3.10/dist-packages/sklearn/linear_model/_sag.py:350: ConvergenceWarning: The max_iter was reached which means the coef_ did not converge\n",
            "  warnings.warn(\n",
            "/usr/local/lib/python3.10/dist-packages/sklearn/linear_model/_sag.py:350: ConvergenceWarning: The max_iter was reached which means the coef_ did not converge\n",
            "  warnings.warn(\n"
          ]
        }
      ],
      "source": [
        "from sklearn.pipeline import Pipeline\n",
        "from sklearn.impute import SimpleImputer\n",
        "from sklearn.preprocessing import StandardScaler\n",
        "from sklearn.linear_model import LogisticRegression\n",
        "from sklearn.model_selection import GridSearchCV\n",
        "\n",
        "# Create the pipeline\n",
        "pipeline = Pipeline(steps=[\n",
        "    ('imputer', SimpleImputer(fill_value=0, strategy='constant')),\n",
        "    ('preprocessing', StandardScaler()),\n",
        "    ('logistic_regression', LogisticRegression())\n",
        "])\n",
        "\n",
        "# Define the parameter grid for GridSearchCV\n",
        "parameters = {\n",
        "    'logistic_regression__penalty': ['l1', 'l2'],\n",
        "    'logistic_regression__C': [0.01, 0.1, 1, 10, 100, 1000],\n",
        "    'logistic_regression__solver': ['saga'],\n",
        "    'logistic_regression__max_iter': [1000]\n",
        "}\n",
        "\n",
        "# Create the GridSearchCV object\n",
        "grid_search = GridSearchCV(pipeline, parameters, scoring='accuracy', cv=5, verbose=0)\n",
        "\n",
        "# Fit the grid search to your data\n",
        "grid_search.fit(X_train_bal, Y_train_bal)\n",
        "\n",
        "# Print the best parameters and best score\n",
        "print(\"Best Parameters: \", grid_search.best_params_)\n",
        "print(\"Best Score: \", grid_search.best_score_)\n",
        "from sklearn.model_selection import GridSearchCV"
      ]
    },
    {
      "cell_type": "code",
      "execution_count": null,
      "metadata": {
        "id": "snjsZZZhXSFA"
      },
      "outputs": [],
      "source": [
        "\n",
        "'''\n",
        "\n",
        "\n",
        "parameters = [{'penalty':['l1','l2']},\n",
        "              {'C':[0.01, 0.1, 1, 10, 100, 1000]},\n",
        "              {'solver':['saga']},\n",
        "              {'max_iter':[500, 1000, 5000, 10000]}]\n",
        "logreg = LogisticRegression()\n",
        "grid_search = GridSearchCV(estimator = logreg,\n",
        "                           param_grid = parameters,\n",
        "                           scoring = 'accuracy',\n",
        "                           cv = 5,\n",
        "                           verbose=0)"
      ]
    },
    {
      "cell_type": "code",
      "execution_count": null,
      "metadata": {
        "id": "W3tMKKdZX96u"
      },
      "outputs": [],
      "source": []
    },
    {
      "cell_type": "code",
      "execution_count": null,
      "metadata": {
        "id": "S8eFkOoMYWnX"
      },
      "outputs": [],
      "source": [
        "unmitigated_pipeline.fit(X_train_bal, Y_train_bal)"
      ]
    },
    {
      "cell_type": "code",
      "execution_count": null,
      "metadata": {
        "id": "Ei5-hvRq1eeV"
      },
      "outputs": [],
      "source": [
        "reason_for_stop = 'reason_for_stop_Speed Limit Violation'"
      ]
    },
    {
      "cell_type": "code",
      "execution_count": null,
      "metadata": {
        "id": "w6BzDSLxLjlZ"
      },
      "outputs": [],
      "source": [
        "X_test_speeding = X_test[X_test[reason_for_stop] == True]"
      ]
    },
    {
      "cell_type": "code",
      "execution_count": null,
      "metadata": {
        "id": "faIs1oIQLt5E"
      },
      "outputs": [],
      "source": [
        "Y_test_speeding = Y_test[X_test[reason_for_stop] == True]"
      ]
    },
    {
      "cell_type": "code",
      "execution_count": null,
      "metadata": {
        "id": "jAmTIGVRL9me"
      },
      "outputs": [],
      "source": [
        "Y_pred_proba_speed = unmitigated_pipeline.predict_proba(X_test_speeding)[:,1]\n",
        "Y_pred_speed = unmitigated_pipeline.predict(X_test_speeding)"
      ]
    },
    {
      "cell_type": "code",
      "execution_count": null,
      "metadata": {
        "id": "OmD6OMTEMDvs"
      },
      "outputs": [],
      "source": [
        "RocCurveDisplay.from_estimator(unmitigated_pipeline, X_test_speeding, Y_test_speeding);"
      ]
    },
    {
      "cell_type": "code",
      "execution_count": null,
      "metadata": {
        "id": "emFAnB1qM35w"
      },
      "outputs": [],
      "source": [
        "df_test_speeding = df_test[X_test[reason_for_stop] == True]"
      ]
    },
    {
      "cell_type": "code",
      "execution_count": null,
      "metadata": {
        "id": "2AVPmIRtMWwq"
      },
      "outputs": [],
      "source": [
        "mf1 = MetricFrame(metrics=false_negative_rate,\n",
        "                  y_true=Y_test_speeding,\n",
        "                  y_pred=Y_pred_speed,\n",
        "                  sensitive_features=df_test_speeding['subject_race'])\n",
        "\n",
        "# The disaggregated metrics are stored in a pandas Series mf1.by_group:\n",
        "\n",
        "mf1.by_group"
      ]
    },
    {
      "cell_type": "markdown",
      "metadata": {
        "id": "wNggrQItQ02U"
      },
      "source": [
        "We'll create a HistGradientBoostingClassifier and fit it to the balanced training data set."
      ]
    },
    {
      "cell_type": "code",
      "execution_count": null,
      "metadata": {
        "id": "i2SSgczXQmhK"
      },
      "outputs": [],
      "source": [
        "from sklearn.experimental import enable_hist_gradient_boosting\n",
        "from sklearn.ensemble import HistGradientBoostingClassifier"
      ]
    },
    {
      "cell_type": "code",
      "execution_count": null,
      "metadata": {
        "id": "FEbjYB6mQ-LN"
      },
      "outputs": [],
      "source": [
        "clf = HistGradientBoostingClassifier()\n",
        "\n",
        "# Fit the model to the training data\n",
        "clf.fit(X_train, Y_train)"
      ]
    },
    {
      "cell_type": "code",
      "execution_count": null,
      "metadata": {
        "id": "NmzSdLGrTYiq"
      },
      "outputs": [],
      "source": [
        "exercise_pred = clf.predict(X_test)"
      ]
    },
    {
      "cell_type": "code",
      "execution_count": null,
      "metadata": {
        "id": "IEggO7K3Rj6n"
      },
      "outputs": [],
      "source": [
        "from fairlearn.metrics import false_positive_rate\n",
        "# Define exercise fairness metrics of interest here\n",
        "exercise_metrics = {\n",
        "    \"count\": count,\n",
        "    \"false_positive_rate\": false_positive_rate,\n",
        "    \"recall_score\": recall_score\n",
        "}"
      ]
    },
    {
      "cell_type": "code",
      "execution_count": null,
      "metadata": {
        "id": "XqPTpBFbR9N4"
      },
      "outputs": [],
      "source": [
        "metricframe_unmitigated = MetricFrame(metrics=exercise_metrics,\n",
        "                  y_true=Y_test,\n",
        "                  y_pred=exercise_pred,\n",
        "                  sensitive_features=df_test['subject_race'])"
      ]
    },
    {
      "cell_type": "code",
      "execution_count": null,
      "metadata": {
        "id": "MDZDjbswTt0X"
      },
      "outputs": [],
      "source": [
        "metricframe_unmitigated.by_group"
      ]
    },
    {
      "cell_type": "code",
      "execution_count": null,
      "metadata": {
        "id": "5yOzdmg7UTSU"
      },
      "outputs": [],
      "source": [
        "RocCurveDisplay.from_estimator(clf, X_test, Y_test);"
      ]
    }
  ],
  "metadata": {
    "accelerator": "GPU",
    "colab": {
      "machine_shape": "hm",
      "provenance": [],
      "toc_visible": true,
      "include_colab_link": true
    },
    "kernelspec": {
      "display_name": "Python 3",
      "name": "python3"
    },
    "language_info": {
      "name": "python"
    }
  },
  "nbformat": 4,
  "nbformat_minor": 0
}